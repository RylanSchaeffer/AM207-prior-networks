{
 "cells": [
  {
   "cell_type": "code",
   "execution_count": null,
   "metadata": {},
   "outputs": [],
   "source": [
    "import matplotlib.pyplot as plt\n",
    "# import plotly.express as px\n",
    "import numpy as np\n",
    "import torch\n",
    "import torch.nn as nn\n",
    "import torch.nn.functional as F\n",
    "import torch.optim as optim\n",
    "import plotly.graph_objects as go\n",
    "from torch.distributions import Dirichlet\n",
    "from torch.distributions.kl import _kl_dirichlet_dirichlet\n",
    "import scipy.stats as stats\n",
    "%matplotlib inline"
   ]
  },
  {
   "cell_type": "code",
   "execution_count": 58,
   "metadata": {},
   "outputs": [],
   "source": [
    "# create synthetic data set\n",
    "# analogous to original synthetic dataset. See:\n",
    "# https://github.com/KaosEngineer/PriorNetworks-OLD/blob/master/prior_networks/dirichlet/dirichlet_prior_network_synth.py#L73"
   ]
  },
  {
   "cell_type": "markdown",
   "metadata": {},
   "source": [
    "Create a synthetic dataset of 500 points which corresponds to 3 gaussians."
   ]
  },
  {
   "cell_type": "code",
   "execution_count": 59,
   "metadata": {},
   "outputs": [],
   "source": [
    "num_points = 500\n",
    "# ensure num_points is divisible by 3\n",
    "num_points = 3 * (num_points // 3)\n",
    "mixture_proportions = [1 / 3.0, 1 / 3.0, 1 / 3.0]\n",
    "scale = 10.0\n",
    "mu = [\n",
    "    scale * np.asarray([0, 1.0], dtype=np.float32),\n",
    "    scale * np.asarray([-np.sqrt(3) / 2, -1. / 2], dtype=np.float32),\n",
    "    scale * np.asarray([np.sqrt(3) / 2, -1. / 2], dtype=np.float32)\n",
    "]\n",
    "diag_cov = 2 * np.identity(2)"
   ]
  },
  {
   "cell_type": "code",
   "execution_count": 60,
   "metadata": {},
   "outputs": [],
   "source": [
    "# create dataset\n",
    "\n",
    "samples, labels = [], []\n",
    "for i in range(len(mu)):\n",
    "    num_class_samples = int(num_points*mixture_proportions[i])\n",
    "    class_samples = np.random.multivariate_normal(\n",
    "        mean=mu[i],\n",
    "        cov=diag_cov,\n",
    "        size=num_class_samples)\n",
    "    samples.append(class_samples)\n",
    "    class_labels = np.full(\n",
    "        shape=num_class_samples,\n",
    "        fill_value=i)\n",
    "    labels.append(class_labels)\n",
    "samples = np.concatenate(samples)\n",
    "labels = np.concatenate(labels)"
   ]
  },
  {
   "cell_type": "code",
   "execution_count": 61,
   "metadata": {},
   "outputs": [],
   "source": [
    "# shuffle dataset\n",
    "\n",
    "shuffle_idx = np.random.choice(\n",
    "    np.arange(num_points),\n",
    "    size=num_points,\n",
    "    replace=False)\n",
    "samples = samples[shuffle_idx, :]\n",
    "labels = labels[shuffle_idx]"
   ]
  },
  {
   "cell_type": "code",
   "execution_count": 62,
   "metadata": {},
   "outputs": [
    {
     "data": {
      "image/png": "[encoded data removed]",
      "text/plain": [
       "<Figure size 432x288 with 1 Axes>"
      ]
     },
     "metadata": {
      "needs_background": "light"
     },
     "output_type": "display_data"
    }
   ],
   "source": [
    "plt.plot(samples[labels==0][:,0], samples[labels==0][:,1], 'ro', label='Class 0')\n",
    "plt.plot(samples[labels==1][:,0], samples[labels==1][:,1], 'bo', label='Class 1')\n",
    "plt.plot(samples[labels==2][:,0], samples[labels==2][:,1], 'go', label='Class 2')\n",
    "plt.legend()\n",
    "plt.show()"
   ]
  },
  {
   "cell_type": "code",
   "execution_count": 88,
   "metadata": {},
   "outputs": [],
   "source": [
    "# set concentration parameter\n",
    "alpha_0 = 3.0"
   ]
  },
  {
   "cell_type": "code",
   "execution_count": 64,
   "metadata": {},
   "outputs": [],
   "source": [
    "# helper function for checking that no element is NaN or Inf\n",
    "def assert_no_nan_no_inf(x):\n",
    "    assert not torch.isnan(x).any()\n",
    "    assert not torch.isinf(x).any()"
   ]
  },
  {
   "cell_type": "markdown",
   "metadata": {},
   "source": [
    "# Logistic Regression by MLE"
   ]
  },
  {
   "cell_type": "markdown",
   "metadata": {},
   "source": [
    "First we will train a logistic regression model by maximizing likelihood."
   ]
  },
  {
   "cell_type": "code",
   "execution_count": 99,
   "metadata": {},
   "outputs": [],
   "source": [
    "# instantiate classification model\n",
    "class Network(nn.Module):\n",
    "    def __init__(self,\n",
    "                 alpha_0=3.):\n",
    "        super().__init__()\n",
    "        self.alpha_0 = alpha_0\n",
    "        self.weights = nn.Linear(\n",
    "            in_features=2,\n",
    "            out_features=3)\n",
    "\n",
    "    def forward(self, x):\n",
    "        alphas = self.weights(x)\n",
    "        assert_no_nan_no_inf(alphas)\n",
    "        output = F.softmax(alphas / self.alpha_0, dim=1)\n",
    "        assert_no_nan_no_inf(output)\n",
    "        return output\n",
    "\n",
    "#logistic regression net    \n",
    "lr_net = Network(alpha_0=alpha_0)"
   ]
  },
  {
   "cell_type": "code",
   "execution_count": 100,
   "metadata": {},
   "outputs": [],
   "source": [
    "# define typical classification function\n",
    "criterion = nn.NLLLoss()"
   ]
  },
  {
   "cell_type": "code",
   "execution_count": 67,
   "metadata": {},
   "outputs": [],
   "source": [
    "# convert data from numpy arrays to tensors\n",
    "samples = torch.Tensor(samples)\n",
    "labels = torch.Tensor(labels).to(torch.int64)"
   ]
  },
  {
   "cell_type": "code",
   "execution_count": 101,
   "metadata": {
    "scrolled": true
   },
   "outputs": [
    {
     "name": "stdout",
     "output_type": "stream",
     "text": [
      "Step: 0, Loss: -0.09748077392578125\n",
      "Step: 1, Loss: -0.07277123630046844\n",
      "Step: 2, Loss: -0.08409864455461502\n",
      "Step: 3, Loss: -0.09399767220020294\n",
      "Step: 4, Loss: -0.0821058377623558\n",
      "Step: 5, Loss: -0.08143710345029831\n",
      "Step: 6, Loss: -0.08623577654361725\n",
      "Step: 7, Loss: -0.0911731868982315\n",
      "Step: 8, Loss: -0.09424708783626556\n",
      "Step: 9, Loss: -0.07498057931661606\n",
      "Step: 10, Loss: -0.09541120380163193\n",
      "Step: 11, Loss: -0.07593477517366409\n",
      "Step: 12, Loss: -0.09402924031019211\n",
      "Step: 13, Loss: -0.07044932246208191\n",
      "Step: 14, Loss: -0.08622126281261444\n",
      "Step: 15, Loss: -0.08076034486293793\n",
      "Step: 16, Loss: -0.08139064908027649\n",
      "Step: 17, Loss: -0.09542243182659149\n",
      "Step: 18, Loss: -0.08298654854297638\n",
      "Step: 19, Loss: -0.08225761353969574\n",
      "Step: 20, Loss: -0.08959874510765076\n",
      "Step: 21, Loss: -0.08474251627922058\n",
      "Step: 22, Loss: -0.0765475332736969\n",
      "Step: 23, Loss: -0.07166223973035812\n",
      "Step: 24, Loss: -0.11005613952875137\n",
      "Step: 25, Loss: -0.06646525859832764\n",
      "Step: 26, Loss: -0.0876082107424736\n",
      "Step: 27, Loss: -0.08380910009145737\n",
      "Step: 28, Loss: -0.08157296478748322\n",
      "Step: 29, Loss: -0.06854753196239471\n",
      "Step: 30, Loss: -0.08510061353445053\n",
      "Step: 31, Loss: -0.08456473052501678\n",
      "Step: 32, Loss: -0.06739731132984161\n",
      "Step: 33, Loss: -0.09474371373653412\n",
      "Step: 34, Loss: -0.09318963438272476\n",
      "Step: 35, Loss: -0.08902381360530853\n",
      "Step: 36, Loss: -0.09677062928676605\n",
      "Step: 37, Loss: -0.07378428429365158\n",
      "Step: 38, Loss: -0.14429280161857605\n",
      "Step: 39, Loss: -0.07013894617557526\n",
      "Step: 40, Loss: -0.07678396999835968\n",
      "Step: 41, Loss: -0.09634687751531601\n",
      "Step: 42, Loss: -0.09867892414331436\n",
      "Step: 43, Loss: -0.09959995746612549\n",
      "Step: 44, Loss: -0.08867984265089035\n",
      "Step: 45, Loss: -0.12729690968990326\n",
      "Step: 46, Loss: -0.07725870609283447\n",
      "Step: 47, Loss: -0.09584807604551315\n",
      "Step: 48, Loss: -0.056260280311107635\n",
      "Step: 49, Loss: -0.11580710113048553\n",
      "Step: 50, Loss: -0.12705297768115997\n",
      "Step: 51, Loss: -0.12853190302848816\n",
      "Step: 52, Loss: -0.10797841846942902\n",
      "Step: 53, Loss: -0.12053751945495605\n",
      "Step: 54, Loss: -0.10749693214893341\n",
      "Step: 55, Loss: -0.09694908559322357\n",
      "Step: 56, Loss: -0.09396761655807495\n",
      "Step: 57, Loss: -0.09484177827835083\n",
      "Step: 58, Loss: -0.13387297093868256\n",
      "Step: 59, Loss: -0.09416775405406952\n",
      "Step: 60, Loss: -0.1043516993522644\n",
      "Step: 61, Loss: -0.09985670447349548\n",
      "Step: 62, Loss: -0.11231844127178192\n",
      "Step: 63, Loss: -0.09978491067886353\n",
      "Step: 64, Loss: -0.07764925807714462\n",
      "Step: 65, Loss: -0.10315127670764923\n",
      "Step: 66, Loss: -0.17021217942237854\n",
      "Step: 67, Loss: -0.13042530417442322\n",
      "Step: 68, Loss: -0.12631076574325562\n",
      "Step: 69, Loss: -0.10096970945596695\n",
      "Step: 70, Loss: -0.09554408490657806\n",
      "Step: 71, Loss: -0.14145927131175995\n",
      "Step: 72, Loss: -0.16152967512607574\n",
      "Step: 73, Loss: -0.1509072482585907\n",
      "Step: 74, Loss: -0.16623324155807495\n",
      "Step: 75, Loss: -0.13228192925453186\n",
      "Step: 76, Loss: -0.11015208810567856\n",
      "Step: 77, Loss: -0.16087421774864197\n",
      "Step: 78, Loss: -0.13889525830745697\n",
      "Step: 79, Loss: -0.09791756421327591\n",
      "Step: 80, Loss: -0.15315404534339905\n",
      "Step: 81, Loss: -0.1109490618109703\n",
      "Step: 82, Loss: -0.1126861721277237\n",
      "Step: 83, Loss: -0.11150622367858887\n",
      "Step: 84, Loss: -0.1140577644109726\n",
      "Step: 85, Loss: -0.19988976418972015\n",
      "Step: 86, Loss: -0.15218232572078705\n",
      "Step: 87, Loss: -0.11146730184555054\n",
      "Step: 88, Loss: -0.14597786962985992\n",
      "Step: 89, Loss: -0.14188098907470703\n",
      "Step: 90, Loss: -0.20014944672584534\n",
      "Step: 91, Loss: -0.13772878050804138\n",
      "Step: 92, Loss: -0.14655061066150665\n",
      "Step: 93, Loss: -0.1834520548582077\n",
      "Step: 94, Loss: -0.15699619054794312\n",
      "Step: 95, Loss: -0.1287466585636139\n",
      "Step: 96, Loss: -0.1407541036605835\n",
      "Step: 97, Loss: -0.13662509620189667\n",
      "Step: 98, Loss: -0.13835373520851135\n",
      "Step: 99, Loss: -0.07314347475767136\n"
     ]
    }
   ],
   "source": [
    "# prepare to train\n",
    "optimizer = optim.SGD(lr_net.parameters(), lr=0.01)\n",
    "num_training_steps = 100\n",
    "batch_size = 20\n",
    "\n",
    "# train!\n",
    "losses = []\n",
    "for step in range(num_training_steps):\n",
    "    optimizer.zero_grad()   # zero the gradient buffers\n",
    "    batch_idx = np.random.choice(\n",
    "        np.arange(num_points),\n",
    "        size=batch_size,\n",
    "        replace=False)\n",
    "    batch_samples, batch_labels = samples[batch_idx], labels[batch_idx]\n",
    "    pred_labels = lr_net(batch_samples)\n",
    "    loss = criterion(pred_labels, batch_labels)\n",
    "    print('Step: {}, Loss: {}'.format(step, loss.item()))\n",
    "    losses.append(loss.item())\n",
    "    loss.backward()\n",
    "    optimizer.step()"
   ]
  },
  {
   "cell_type": "code",
   "execution_count": 102,
   "metadata": {},
   "outputs": [
    {
     "data": {
      "text/plain": [
       "tensor([[0.0274, 0.6575, 0.3151],\n",
       "        [0.4715, 0.1951, 0.3334],\n",
       "        [0.0538, 0.5956, 0.3506],\n",
       "        ...,\n",
       "        [0.8606, 0.0520, 0.0874],\n",
       "        [0.5024, 0.1852, 0.3124],\n",
       "        [0.2571, 0.3263, 0.4166]], grad_fn=<SoftmaxBackward>)"
      ]
     },
     "execution_count": 102,
     "metadata": {},
     "output_type": "execute_result"
    }
   ],
   "source": [
    "lr_preds = lr_net.forward(samples)\n",
    "lr_preds"
   ]
  },
  {
   "cell_type": "code",
   "execution_count": 103,
   "metadata": {},
   "outputs": [],
   "source": [
    "# plot training loss\n",
    "plot_data = [\n",
    "    go.Scatter(\n",
    "        x=np.arange(len(losses)),\n",
    "        y=losses,\n",
    "        mode='lines')\n",
    "]\n",
    "\n",
    "layout = dict(\n",
    "    title='Negative Log Likelihood Per Batch',\n",
    "    yaxis=dict(title='NLL'),\n",
    "    xaxis=dict(title='Batch (size={})'.format(batch_size))\n",
    ")\n",
    "fig = go.Figure(data=plot_data, layout=layout)\n",
    "fig.show()"
   ]
  }
 ],
 "metadata": {
  "kernelspec": {
   "display_name": "Python 3",
   "language": "python",
   "name": "python3"
  },
  "language_info": {
   "codemirror_mode": {
    "name": "ipython",
    "version": 3
   },
   "file_extension": ".py",
   "mimetype": "text/x-python",
   "name": "python",
   "nbconvert_exporter": "python",
   "pygments_lexer": "ipython3",
   "version": "3.6.3"
  }
 },
 "nbformat": 4,
 "nbformat_minor": 1
}
