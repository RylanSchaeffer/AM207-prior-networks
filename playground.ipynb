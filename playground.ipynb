{
 "cells": [
  {
   "cell_type": "code",
   "execution_count": 148,
   "metadata": {},
   "outputs": [],
   "source": [
    "import matplotlib.pyplot as plt\n",
    "import plotly.express as px\n",
    "import numpy as np\n",
    "import torch\n",
    "import torch.nn as nn\n",
    "import torch.nn.functional as F\n",
    "import torch.optim as optim\n",
    "import plotly.graph_objects as go\n",
    "from torch.distributions import Dirichlet\n",
    "from torch.distributions.kl import _kl_dirichlet_dirichlet\n",
    "import scipy.stats as stats\n",
    "%matplotlib inline"
   ]
  },
  {
   "cell_type": "code",
   "execution_count": 58,
   "metadata": {},
   "outputs": [],
   "source": [
    "# create synthetic data set\n",
    "# analogous to original synthetic dataset. See:\n",
    "# https://github.com/KaosEngineer/PriorNetworks-OLD/blob/master/prior_networks/dirichlet/dirichlet_prior_network_synth.py#L73\n"
   ]
  },
  {
   "cell_type": "markdown",
   "metadata": {},
   "source": [
    "Create a synthetic dataset of 500 points which corresponds to 3 gaussians."
   ]
  },
  {
   "cell_type": "code",
   "execution_count": 59,
   "metadata": {},
   "outputs": [],
   "source": [
    "\n",
    "num_points = 500\n",
    "# ensure num_points is divisible by 3\n",
    "num_points = 3 * (num_points // 3)\n",
    "mixture_proportions = [1 / 3.0, 1 / 3.0, 1 / 3.0]\n",
    "scale = 10.0\n",
    "mu = [\n",
    "    scale * np.asarray([0, 1.0], dtype=np.float32),\n",
    "    scale * np.asarray([-np.sqrt(3) / 2, -1. / 2], dtype=np.float32),\n",
    "    scale * np.asarray([np.sqrt(3) / 2, -1. / 2], dtype=np.float32)\n",
    "]\n",
    "diag_cov = 2 * np.identity(2)"
   ]
  },
  {
   "cell_type": "code",
   "execution_count": 60,
   "metadata": {},
   "outputs": [],
   "source": [
    "# create dataset\n",
    "\n",
    "samples, labels = [], []\n",
    "for i in range(len(mu)):\n",
    "    num_class_samples = int(num_points*mixture_proportions[i])\n",
    "    class_samples = np.random.multivariate_normal(\n",
    "        mean=mu[i],\n",
    "        cov=diag_cov,\n",
    "        size=num_class_samples)\n",
    "    samples.append(class_samples)\n",
    "    class_labels = np.full(\n",
    "        shape=num_class_samples,\n",
    "        fill_value=i)\n",
    "    labels.append(class_labels)\n",
    "samples = np.concatenate(samples)\n",
    "labels = np.concatenate(labels)"
   ]
  },
  {
   "cell_type": "code",
   "execution_count": 61,
   "metadata": {},
   "outputs": [],
   "source": [
    "# shuffle dataset\n",
    "\n",
    "shuffle_idx = np.random.choice(\n",
    "    np.arange(num_points),\n",
    "    size=num_points,\n",
    "    replace=False)\n",
    "samples = samples[shuffle_idx, :]\n",
    "labels = labels[shuffle_idx]"
   ]
  },
  {
   "cell_type": "code",
   "execution_count": 62,
   "metadata": {},
   "outputs": [
    {
     "data": {
      "image/png": "[encoded data removed]",
      "text/plain": [
       "<Figure size 432x288 with 1 Axes>"
      ]
     },
     "metadata": {
      "needs_background": "light"
     },
     "output_type": "display_data"
    }
   ],
   "source": [
    "plt.plot(samples[labels==0][:,0], samples[labels==0][:,1], 'ro', label='Class 0')\n",
    "plt.plot(samples[labels==1][:,0], samples[labels==1][:,1], 'bo', label='Class 1')\n",
    "plt.plot(samples[labels==2][:,0], samples[labels==2][:,1], 'go', label='Class 2')\n",
    "plt.legend()\n",
    "plt.show()"
   ]
  },
  {
   "cell_type": "code",
   "execution_count": 88,
   "metadata": {},
   "outputs": [],
   "source": [
    "# set concentration parameter\n",
    "alpha_0 = 3.0"
   ]
  },
  {
   "cell_type": "code",
   "execution_count": 64,
   "metadata": {},
   "outputs": [],
   "source": [
    "\n",
    "# helper function for checking that no element is NaN or Inf\n",
    "def assert_no_nan_no_inf(x):\n",
    "    assert not torch.isnan(x).any()\n",
    "    assert not torch.isinf(x).any()"
   ]
  },
  {
   "cell_type": "markdown",
   "metadata": {},
   "source": [
    "# Logistic Regression by MLE"
   ]
  },
  {
   "cell_type": "markdown",
   "metadata": {},
   "source": [
    "First we will train a logistic regression model by maximizing likelihood."
   ]
  },
  {
   "cell_type": "code",
   "execution_count": 99,
   "metadata": {},
   "outputs": [],
   "source": [
    "# instantiate classification model\n",
    "class Network(nn.Module):\n",
    "    def __init__(self,\n",
    "                 alpha_0=3.):\n",
    "        super().__init__()\n",
    "        self.alpha_0 = alpha_0\n",
    "        self.weights = nn.Linear(\n",
    "            in_features=2,\n",
    "            out_features=3)\n",
    "\n",
    "    def forward(self, x):\n",
    "        alphas = self.weights(x)\n",
    "        assert_no_nan_no_inf(alphas)\n",
    "        output = F.softmax(alphas / self.alpha_0, dim=1)\n",
    "        assert_no_nan_no_inf(output)\n",
    "        return output\n",
    "\n",
    "#logistic regression net    \n",
    "lr_net = Network(alpha_0=alpha_0)"
   ]
  },
  {
   "cell_type": "code",
   "execution_count": 100,
   "metadata": {},
   "outputs": [],
   "source": [
    "# define typical classification function\n",
    "criterion = nn.NLLLoss()"
   ]
  },
  {
   "cell_type": "code",
   "execution_count": 67,
   "metadata": {},
   "outputs": [],
   "source": [
    "# convert data from numpy arrays to tensors\n",
    "samples = torch.Tensor(samples)\n",
    "labels = torch.Tensor(labels).to(torch.int64)"
   ]
  },
  {
   "cell_type": "code",
   "execution_count": 101,
   "metadata": {
    "scrolled": true
   },
   "outputs": [
    {
     "name": "stdout",
     "output_type": "stream",
     "text": [
      "Step: 0, Loss: -0.09748077392578125\n",
      "Step: 1, Loss: -0.07277123630046844\n",
      "Step: 2, Loss: -0.08409864455461502\n",
      "Step: 3, Loss: -0.09399767220020294\n",
      "Step: 4, Loss: -0.0821058377623558\n",
      "Step: 5, Loss: -0.08143710345029831\n",
      "Step: 6, Loss: -0.08623577654361725\n",
      "Step: 7, Loss: -0.0911731868982315\n",
      "Step: 8, Loss: -0.09424708783626556\n",
      "Step: 9, Loss: -0.07498057931661606\n",
      "Step: 10, Loss: -0.09541120380163193\n",
      "Step: 11, Loss: -0.07593477517366409\n",
      "Step: 12, Loss: -0.09402924031019211\n",
      "Step: 13, Loss: -0.07044932246208191\n",
      "Step: 14, Loss: -0.08622126281261444\n",
      "Step: 15, Loss: -0.08076034486293793\n",
      "Step: 16, Loss: -0.08139064908027649\n",
      "Step: 17, Loss: -0.09542243182659149\n",
      "Step: 18, Loss: -0.08298654854297638\n",
      "Step: 19, Loss: -0.08225761353969574\n",
      "Step: 20, Loss: -0.08959874510765076\n",
      "Step: 21, Loss: -0.08474251627922058\n",
      "Step: 22, Loss: -0.0765475332736969\n",
      "Step: 23, Loss: -0.07166223973035812\n",
      "Step: 24, Loss: -0.11005613952875137\n",
      "Step: 25, Loss: -0.06646525859832764\n",
      "Step: 26, Loss: -0.0876082107424736\n",
      "Step: 27, Loss: -0.08380910009145737\n",
      "Step: 28, Loss: -0.08157296478748322\n",
      "Step: 29, Loss: -0.06854753196239471\n",
      "Step: 30, Loss: -0.08510061353445053\n",
      "Step: 31, Loss: -0.08456473052501678\n",
      "Step: 32, Loss: -0.06739731132984161\n",
      "Step: 33, Loss: -0.09474371373653412\n",
      "Step: 34, Loss: -0.09318963438272476\n",
      "Step: 35, Loss: -0.08902381360530853\n",
      "Step: 36, Loss: -0.09677062928676605\n",
      "Step: 37, Loss: -0.07378428429365158\n",
      "Step: 38, Loss: -0.14429280161857605\n",
      "Step: 39, Loss: -0.07013894617557526\n",
      "Step: 40, Loss: -0.07678396999835968\n",
      "Step: 41, Loss: -0.09634687751531601\n",
      "Step: 42, Loss: -0.09867892414331436\n",
      "Step: 43, Loss: -0.09959995746612549\n",
      "Step: 44, Loss: -0.08867984265089035\n",
      "Step: 45, Loss: -0.12729690968990326\n",
      "Step: 46, Loss: -0.07725870609283447\n",
      "Step: 47, Loss: -0.09584807604551315\n",
      "Step: 48, Loss: -0.056260280311107635\n",
      "Step: 49, Loss: -0.11580710113048553\n",
      "Step: 50, Loss: -0.12705297768115997\n",
      "Step: 51, Loss: -0.12853190302848816\n",
      "Step: 52, Loss: -0.10797841846942902\n",
      "Step: 53, Loss: -0.12053751945495605\n",
      "Step: 54, Loss: -0.10749693214893341\n",
      "Step: 55, Loss: -0.09694908559322357\n",
      "Step: 56, Loss: -0.09396761655807495\n",
      "Step: 57, Loss: -0.09484177827835083\n",
      "Step: 58, Loss: -0.13387297093868256\n",
      "Step: 59, Loss: -0.09416775405406952\n",
      "Step: 60, Loss: -0.1043516993522644\n",
      "Step: 61, Loss: -0.09985670447349548\n",
      "Step: 62, Loss: -0.11231844127178192\n",
      "Step: 63, Loss: -0.09978491067886353\n",
      "Step: 64, Loss: -0.07764925807714462\n",
      "Step: 65, Loss: -0.10315127670764923\n",
      "Step: 66, Loss: -0.17021217942237854\n",
      "Step: 67, Loss: -0.13042530417442322\n",
      "Step: 68, Loss: -0.12631076574325562\n",
      "Step: 69, Loss: -0.10096970945596695\n",
      "Step: 70, Loss: -0.09554408490657806\n",
      "Step: 71, Loss: -0.14145927131175995\n",
      "Step: 72, Loss: -0.16152967512607574\n",
      "Step: 73, Loss: -0.1509072482585907\n",
      "Step: 74, Loss: -0.16623324155807495\n",
      "Step: 75, Loss: -0.13228192925453186\n",
      "Step: 76, Loss: -0.11015208810567856\n",
      "Step: 77, Loss: -0.16087421774864197\n",
      "Step: 78, Loss: -0.13889525830745697\n",
      "Step: 79, Loss: -0.09791756421327591\n",
      "Step: 80, Loss: -0.15315404534339905\n",
      "Step: 81, Loss: -0.1109490618109703\n",
      "Step: 82, Loss: -0.1126861721277237\n",
      "Step: 83, Loss: -0.11150622367858887\n",
      "Step: 84, Loss: -0.1140577644109726\n",
      "Step: 85, Loss: -0.19988976418972015\n",
      "Step: 86, Loss: -0.15218232572078705\n",
      "Step: 87, Loss: -0.11146730184555054\n",
      "Step: 88, Loss: -0.14597786962985992\n",
      "Step: 89, Loss: -0.14188098907470703\n",
      "Step: 90, Loss: -0.20014944672584534\n",
      "Step: 91, Loss: -0.13772878050804138\n",
      "Step: 92, Loss: -0.14655061066150665\n",
      "Step: 93, Loss: -0.1834520548582077\n",
      "Step: 94, Loss: -0.15699619054794312\n",
      "Step: 95, Loss: -0.1287466585636139\n",
      "Step: 96, Loss: -0.1407541036605835\n",
      "Step: 97, Loss: -0.13662509620189667\n",
      "Step: 98, Loss: -0.13835373520851135\n",
      "Step: 99, Loss: -0.07314347475767136\n"
     ]
    }
   ],
   "source": [
    "# prepare to train\n",
    "optimizer = optim.SGD(lr_net.parameters(), lr=0.01)\n",
    "num_training_steps = 100\n",
    "batch_size = 20\n",
    "\n",
    "# train!\n",
    "losses = []\n",
    "for step in range(num_training_steps):\n",
    "    optimizer.zero_grad()   # zero the gradient buffers\n",
    "    batch_idx = np.random.choice(\n",
    "        np.arange(num_points),\n",
    "        size=batch_size,\n",
    "        replace=False)\n",
    "    batch_samples, batch_labels = samples[batch_idx], labels[batch_idx]\n",
    "    pred_labels = lr_net(batch_samples)\n",
    "    loss = criterion(pred_labels, batch_labels)\n",
    "    print('Step: {}, Loss: {}'.format(step, loss.item()))\n",
    "    losses.append(loss.item())\n",
    "    loss.backward()\n",
    "    optimizer.step()\n"
   ]
  },
  {
   "cell_type": "code",
   "execution_count": 102,
   "metadata": {},
   "outputs": [
    {
     "data": {
      "text/plain": [
       "tensor([[0.0274, 0.6575, 0.3151],\n",
       "        [0.4715, 0.1951, 0.3334],\n",
       "        [0.0538, 0.5956, 0.3506],\n",
       "        ...,\n",
       "        [0.8606, 0.0520, 0.0874],\n",
       "        [0.5024, 0.1852, 0.3124],\n",
       "        [0.2571, 0.3263, 0.4166]], grad_fn=<SoftmaxBackward>)"
      ]
     },
     "execution_count": 102,
     "metadata": {},
     "output_type": "execute_result"
    }
   ],
   "source": [
    "lr_preds = lr_net.forward(samples)\n",
    "lr_preds"
   ]
  },
  {
   "cell_type": "code",
   "execution_count": 103,
   "metadata": {},
   "outputs": [
    {
     "data": {
      "application/vnd.plotly.v1+json": {
       "config": {
        "plotlyServerURL": "https://plot.ly"
       },
       "data": [
        {
         "mode": "lines",
         "type": "scatter",
         "x": [
          0,
          1,
          2,
          3,
          4,
          5,
          6,
          7,
          8,
          9,
          10,
          11,
          12,
          13,
          14,
          15,
          16,
          17,
          18,
          19,
          20,
          21,
          22,
          23,
          24,
          25,
          26,
          27,
          28,
          29,
          30,
          31,
          32,
          33,
          34,
          35,
          36,
          37,
          38,
          39,
          40,
          41,
          42,
          43,
          44,
          45,
          46,
          47,
          48,
          49,
          50,
          51,
          52,
          53,
          54,
          55,
          56,
          57,
          58,
          59,
          60,
          61,
          62,
          63,
          64,
          65,
          66,
          67,
          68,
          69,
          70,
          71,
          72,
          73,
          74,
          75,
          76,
          77,
          78,
          79,
          80,
          81,
          82,
          83,
          84,
          85,
          86,
          87,
          88,
          89,
          90,
          91,
          92,
          93,
          94,
          95,
          96,
          97,
          98,
          99
         ],
         "y": [
          -0.09748077392578125,
          -0.07277123630046844,
          -0.08409864455461502,
          -0.09399767220020294,
          -0.0821058377623558,
          -0.08143710345029831,
          -0.08623577654361725,
          -0.0911731868982315,
          -0.09424708783626556,
          -0.07498057931661606,
          -0.09541120380163193,
          -0.07593477517366409,
          -0.09402924031019211,
          -0.07044932246208191,
          -0.08622126281261444,
          -0.08076034486293793,
          -0.08139064908027649,
          -0.09542243182659149,
          -0.08298654854297638,
          -0.08225761353969574,
          -0.08959874510765076,
          -0.08474251627922058,
          -0.0765475332736969,
          -0.07166223973035812,
          -0.11005613952875137,
          -0.06646525859832764,
          -0.0876082107424736,
          -0.08380910009145737,
          -0.08157296478748322,
          -0.06854753196239471,
          -0.08510061353445053,
          -0.08456473052501678,
          -0.06739731132984161,
          -0.09474371373653412,
          -0.09318963438272476,
          -0.08902381360530853,
          -0.09677062928676605,
          -0.07378428429365158,
          -0.14429280161857605,
          -0.07013894617557526,
          -0.07678396999835968,
          -0.09634687751531601,
          -0.09867892414331436,
          -0.09959995746612549,
          -0.08867984265089035,
          -0.12729690968990326,
          -0.07725870609283447,
          -0.09584807604551315,
          -0.056260280311107635,
          -0.11580710113048553,
          -0.12705297768115997,
          -0.12853190302848816,
          -0.10797841846942902,
          -0.12053751945495605,
          -0.10749693214893341,
          -0.09694908559322357,
          -0.09396761655807495,
          -0.09484177827835083,
          -0.13387297093868256,
          -0.09416775405406952,
          -0.1043516993522644,
          -0.09985670447349548,
          -0.11231844127178192,
          -0.09978491067886353,
          -0.07764925807714462,
          -0.10315127670764923,
          -0.17021217942237854,
          -0.13042530417442322,
          -0.12631076574325562,
          -0.10096970945596695,
          -0.09554408490657806,
          -0.14145927131175995,
          -0.16152967512607574,
          -0.1509072482585907,
          -0.16623324155807495,
          -0.13228192925453186,
          -0.11015208810567856,
          -0.16087421774864197,
          -0.13889525830745697,
          -0.09791756421327591,
          -0.15315404534339905,
          -0.1109490618109703,
          -0.1126861721277237,
          -0.11150622367858887,
          -0.1140577644109726,
          -0.19988976418972015,
          -0.15218232572078705,
          -0.11146730184555054,
          -0.14597786962985992,
          -0.14188098907470703,
          -0.20014944672584534,
          -0.13772878050804138,
          -0.14655061066150665,
          -0.1834520548582077,
          -0.15699619054794312,
          -0.1287466585636139,
          -0.1407541036605835,
          -0.13662509620189667,
          -0.13835373520851135,
          -0.07314347475767136
         ]
        }
       ],
       "layout": {
        "template": {
         "data": {
          "bar": [
           {
            "error_x": {
             "color": "#2a3f5f"
            },
            "error_y": {
             "color": "#2a3f5f"
            },
            "marker": {
             "line": {
              "color": "#E5ECF6",
              "width": 0.5
             }
            },
            "type": "bar"
           }
          ],
          "barpolar": [
           {
            "marker": {
             "line": {
              "color": "#E5ECF6",
              "width": 0.5
             }
            },
            "type": "barpolar"
           }
          ],
          "carpet": [
           {
            "aaxis": {
             "endlinecolor": "#2a3f5f",
             "gridcolor": "white",
             "linecolor": "white",
             "minorgridcolor": "white",
             "startlinecolor": "#2a3f5f"
            },
            "baxis": {
             "endlinecolor": "#2a3f5f",
             "gridcolor": "white",
             "linecolor": "white",
             "minorgridcolor": "white",
             "startlinecolor": "#2a3f5f"
            },
            "type": "carpet"
           }
          ],
          "choropleth": [
           {
            "colorbar": {
             "outlinewidth": 0,
             "ticks": ""
            },
            "type": "choropleth"
           }
          ],
          "contour": [
           {
            "colorbar": {
             "outlinewidth": 0,
             "ticks": ""
            },
            "colorscale": [
             [
              0,
              "#0d0887"
             ],
             [
              0.1111111111111111,
              "#46039f"
             ],
             [
              0.2222222222222222,
              "#7201a8"
             ],
             [
              0.3333333333333333,
              "#9c179e"
             ],
             [
              0.4444444444444444,
              "#bd3786"
             ],
             [
              0.5555555555555556,
              "#d8576b"
             ],
             [
              0.6666666666666666,
              "#ed7953"
             ],
             [
              0.7777777777777778,
              "#fb9f3a"
             ],
             [
              0.8888888888888888,
              "#fdca26"
             ],
             [
              1,
              "#f0f921"
             ]
            ],
            "type": "contour"
           }
          ],
          "contourcarpet": [
           {
            "colorbar": {
             "outlinewidth": 0,
             "ticks": ""
            },
            "type": "contourcarpet"
           }
          ],
          "heatmap": [
           {
            "colorbar": {
             "outlinewidth": 0,
             "ticks": ""
            },
            "colorscale": [
             [
              0,
              "#0d0887"
             ],
             [
              0.1111111111111111,
              "#46039f"
             ],
             [
              0.2222222222222222,
              "#7201a8"
             ],
             [
              0.3333333333333333,
              "#9c179e"
             ],
             [
              0.4444444444444444,
              "#bd3786"
             ],
             [
              0.5555555555555556,
              "#d8576b"
             ],
             [
              0.6666666666666666,
              "#ed7953"
             ],
             [
              0.7777777777777778,
              "#fb9f3a"
             ],
             [
              0.8888888888888888,
              "#fdca26"
             ],
             [
              1,
              "#f0f921"
             ]
            ],
            "type": "heatmap"
           }
          ],
          "heatmapgl": [
           {
            "colorbar": {
             "outlinewidth": 0,
             "ticks": ""
            },
            "colorscale": [
             [
              0,
              "#0d0887"
             ],
             [
              0.1111111111111111,
              "#46039f"
             ],
             [
              0.2222222222222222,
              "#7201a8"
             ],
             [
              0.3333333333333333,
              "#9c179e"
             ],
             [
              0.4444444444444444,
              "#bd3786"
             ],
             [
              0.5555555555555556,
              "#d8576b"
             ],
             [
              0.6666666666666666,
              "#ed7953"
             ],
             [
              0.7777777777777778,
              "#fb9f3a"
             ],
             [
              0.8888888888888888,
              "#fdca26"
             ],
             [
              1,
              "#f0f921"
             ]
            ],
            "type": "heatmapgl"
           }
          ],
          "histogram": [
           {
            "marker": {
             "colorbar": {
              "outlinewidth": 0,
              "ticks": ""
             }
            },
            "type": "histogram"
           }
          ],
          "histogram2d": [
           {
            "colorbar": {
             "outlinewidth": 0,
             "ticks": ""
            },
            "colorscale": [
             [
              0,
              "#0d0887"
             ],
             [
              0.1111111111111111,
              "#46039f"
             ],
             [
              0.2222222222222222,
              "#7201a8"
             ],
             [
              0.3333333333333333,
              "#9c179e"
             ],
             [
              0.4444444444444444,
              "#bd3786"
             ],
             [
              0.5555555555555556,
              "#d8576b"
             ],
             [
              0.6666666666666666,
              "#ed7953"
             ],
             [
              0.7777777777777778,
              "#fb9f3a"
             ],
             [
              0.8888888888888888,
              "#fdca26"
             ],
             [
              1,
              "#f0f921"
             ]
            ],
            "type": "histogram2d"
           }
          ],
          "histogram2dcontour": [
           {
            "colorbar": {
             "outlinewidth": 0,
             "ticks": ""
            },
            "colorscale": [
             [
              0,
              "#0d0887"
             ],
             [
              0.1111111111111111,
              "#46039f"
             ],
             [
              0.2222222222222222,
              "#7201a8"
             ],
             [
              0.3333333333333333,
              "#9c179e"
             ],
             [
              0.4444444444444444,
              "#bd3786"
             ],
             [
              0.5555555555555556,
              "#d8576b"
             ],
             [
              0.6666666666666666,
              "#ed7953"
             ],
             [
              0.7777777777777778,
              "#fb9f3a"
             ],
             [
              0.8888888888888888,
              "#fdca26"
             ],
             [
              1,
              "#f0f921"
             ]
            ],
            "type": "histogram2dcontour"
           }
          ],
          "mesh3d": [
           {
            "colorbar": {
             "outlinewidth": 0,
             "ticks": ""
            },
            "type": "mesh3d"
           }
          ],
          "parcoords": [
           {
            "line": {
             "colorbar": {
              "outlinewidth": 0,
              "ticks": ""
             }
            },
            "type": "parcoords"
           }
          ],
          "scatter": [
           {
            "marker": {
             "colorbar": {
              "outlinewidth": 0,
              "ticks": ""
             }
            },
            "type": "scatter"
           }
          ],
          "scatter3d": [
           {
            "line": {
             "colorbar": {
              "outlinewidth": 0,
              "ticks": ""
             }
            },
            "marker": {
             "colorbar": {
              "outlinewidth": 0,
              "ticks": ""
             }
            },
            "type": "scatter3d"
           }
          ],
          "scattercarpet": [
           {
            "marker": {
             "colorbar": {
              "outlinewidth": 0,
              "ticks": ""
             }
            },
            "type": "scattercarpet"
           }
          ],
          "scattergeo": [
           {
            "marker": {
             "colorbar": {
              "outlinewidth": 0,
              "ticks": ""
             }
            },
            "type": "scattergeo"
           }
          ],
          "scattergl": [
           {
            "marker": {
             "colorbar": {
              "outlinewidth": 0,
              "ticks": ""
             }
            },
            "type": "scattergl"
           }
          ],
          "scattermapbox": [
           {
            "marker": {
             "colorbar": {
              "outlinewidth": 0,
              "ticks": ""
             }
            },
            "type": "scattermapbox"
           }
          ],
          "scatterpolar": [
           {
            "marker": {
             "colorbar": {
              "outlinewidth": 0,
              "ticks": ""
             }
            },
            "type": "scatterpolar"
           }
          ],
          "scatterpolargl": [
           {
            "marker": {
             "colorbar": {
              "outlinewidth": 0,
              "ticks": ""
             }
            },
            "type": "scatterpolargl"
           }
          ],
          "scatterternary": [
           {
            "marker": {
             "colorbar": {
              "outlinewidth": 0,
              "ticks": ""
             }
            },
            "type": "scatterternary"
           }
          ],
          "surface": [
           {
            "colorbar": {
             "outlinewidth": 0,
             "ticks": ""
            },
            "colorscale": [
             [
              0,
              "#0d0887"
             ],
             [
              0.1111111111111111,
              "#46039f"
             ],
             [
              0.2222222222222222,
              "#7201a8"
             ],
             [
              0.3333333333333333,
              "#9c179e"
             ],
             [
              0.4444444444444444,
              "#bd3786"
             ],
             [
              0.5555555555555556,
              "#d8576b"
             ],
             [
              0.6666666666666666,
              "#ed7953"
             ],
             [
              0.7777777777777778,
              "#fb9f3a"
             ],
             [
              0.8888888888888888,
              "#fdca26"
             ],
             [
              1,
              "#f0f921"
             ]
            ],
            "type": "surface"
           }
          ],
          "table": [
           {
            "cells": {
             "fill": {
              "color": "#EBF0F8"
             },
             "line": {
              "color": "white"
             }
            },
            "header": {
             "fill": {
              "color": "#C8D4E3"
             },
             "line": {
              "color": "white"
             }
            },
            "type": "table"
           }
          ]
         },
         "layout": {
          "annotationdefaults": {
           "arrowcolor": "#2a3f5f",
           "arrowhead": 0,
           "arrowwidth": 1
          },
          "colorscale": {
           "diverging": [
            [
             0,
             "#8e0152"
            ],
            [
             0.1,
             "#c51b7d"
            ],
            [
             0.2,
             "#de77ae"
            ],
            [
             0.3,
             "#f1b6da"
            ],
            [
             0.4,
             "#fde0ef"
            ],
            [
             0.5,
             "#f7f7f7"
            ],
            [
             0.6,
             "#e6f5d0"
            ],
            [
             0.7,
             "#b8e186"
            ],
            [
             0.8,
             "#7fbc41"
            ],
            [
             0.9,
             "#4d9221"
            ],
            [
             1,
             "#276419"
            ]
           ],
           "sequential": [
            [
             0,
             "#0d0887"
            ],
            [
             0.1111111111111111,
             "#46039f"
            ],
            [
             0.2222222222222222,
             "#7201a8"
            ],
            [
             0.3333333333333333,
             "#9c179e"
            ],
            [
             0.4444444444444444,
             "#bd3786"
            ],
            [
             0.5555555555555556,
             "#d8576b"
            ],
            [
             0.6666666666666666,
             "#ed7953"
            ],
            [
             0.7777777777777778,
             "#fb9f3a"
            ],
            [
             0.8888888888888888,
             "#fdca26"
            ],
            [
             1,
             "#f0f921"
            ]
           ],
           "sequentialminus": [
            [
             0,
             "#0d0887"
            ],
            [
             0.1111111111111111,
             "#46039f"
            ],
            [
             0.2222222222222222,
             "#7201a8"
            ],
            [
             0.3333333333333333,
             "#9c179e"
            ],
            [
             0.4444444444444444,
             "#bd3786"
            ],
            [
             0.5555555555555556,
             "#d8576b"
            ],
            [
             0.6666666666666666,
             "#ed7953"
            ],
            [
             0.7777777777777778,
             "#fb9f3a"
            ],
            [
             0.8888888888888888,
             "#fdca26"
            ],
            [
             1,
             "#f0f921"
            ]
           ]
          },
          "colorway": [
           "#636efa",
           "#EF553B",
           "#00cc96",
           "#ab63fa",
           "#FFA15A",
           "#19d3f3",
           "#FF6692",
           "#B6E880",
           "#FF97FF",
           "#FECB52"
          ],
          "font": {
           "color": "#2a3f5f"
          },
          "geo": {
           "bgcolor": "white",
           "lakecolor": "white",
           "landcolor": "#E5ECF6",
           "showlakes": true,
           "showland": true,
           "subunitcolor": "white"
          },
          "hoverlabel": {
           "align": "left"
          },
          "hovermode": "closest",
          "mapbox": {
           "style": "light"
          },
          "paper_bgcolor": "white",
          "plot_bgcolor": "#E5ECF6",
          "polar": {
           "angularaxis": {
            "gridcolor": "white",
            "linecolor": "white",
            "ticks": ""
           },
           "bgcolor": "#E5ECF6",
           "radialaxis": {
            "gridcolor": "white",
            "linecolor": "white",
            "ticks": ""
           }
          },
          "scene": {
           "xaxis": {
            "backgroundcolor": "#E5ECF6",
            "gridcolor": "white",
            "gridwidth": 2,
            "linecolor": "white",
            "showbackground": true,
            "ticks": "",
            "zerolinecolor": "white"
           },
           "yaxis": {
            "backgroundcolor": "#E5ECF6",
            "gridcolor": "white",
            "gridwidth": 2,
            "linecolor": "white",
            "showbackground": true,
            "ticks": "",
            "zerolinecolor": "white"
           },
           "zaxis": {
            "backgroundcolor": "#E5ECF6",
            "gridcolor": "white",
            "gridwidth": 2,
            "linecolor": "white",
            "showbackground": true,
            "ticks": "",
            "zerolinecolor": "white"
           }
          },
          "shapedefaults": {
           "line": {
            "color": "#2a3f5f"
           }
          },
          "ternary": {
           "aaxis": {
            "gridcolor": "white",
            "linecolor": "white",
            "ticks": ""
           },
           "baxis": {
            "gridcolor": "white",
            "linecolor": "white",
            "ticks": ""
           },
           "bgcolor": "#E5ECF6",
           "caxis": {
            "gridcolor": "white",
            "linecolor": "white",
            "ticks": ""
           }
          },
          "title": {
           "x": 0.05
          },
          "xaxis": {
           "automargin": true,
           "gridcolor": "white",
           "linecolor": "white",
           "ticks": "",
           "zerolinecolor": "white",
           "zerolinewidth": 2
          },
          "yaxis": {
           "automargin": true,
           "gridcolor": "white",
           "linecolor": "white",
           "ticks": "",
           "zerolinecolor": "white",
           "zerolinewidth": 2
          }
         }
        },
        "title": {
         "text": "Negative Log Likelihood Per Batch"
        },
        "xaxis": {
         "title": {
          "text": "Batch (size=20)"
         }
        },
        "yaxis": {
         "title": {
          "text": "NLL"
         }
        }
       }
      },
      "text/html": [
       "<div>\n",
       "        \n",
       "        \n",
       "            <div id=\"e66a1da0-04a4-4f42-82f5-4bc05cdf35c1\" class=\"plotly-graph-div\" style=\"height:525px; width:100%;\"></div>\n",
       "            <script type=\"text/javascript\">\n",
       "                require([\"plotly\"], function(Plotly) {\n",
       "                    window.PLOTLYENV=window.PLOTLYENV || {};\n",
       "                    \n",
       "                if (document.getElementById(\"e66a1da0-04a4-4f42-82f5-4bc05cdf35c1\")) {\n",
       "                    Plotly.newPlot(\n",
       "                        'e66a1da0-04a4-4f42-82f5-4bc05cdf35c1',\n",
       "                        [{\"mode\": \"lines\", \"type\": \"scatter\", \"x\": [0, 1, 2, 3, 4, 5, 6, 7, 8, 9, 10, 11, 12, 13, 14, 15, 16, 17, 18, 19, 20, 21, 22, 23, 24, 25, 26, 27, 28, 29, 30, 31, 32, 33, 34, 35, 36, 37, 38, 39, 40, 41, 42, 43, 44, 45, 46, 47, 48, 49, 50, 51, 52, 53, 54, 55, 56, 57, 58, 59, 60, 61, 62, 63, 64, 65, 66, 67, 68, 69, 70, 71, 72, 73, 74, 75, 76, 77, 78, 79, 80, 81, 82, 83, 84, 85, 86, 87, 88, 89, 90, 91, 92, 93, 94, 95, 96, 97, 98, 99], \"y\": [-0.09748077392578125, -0.07277123630046844, -0.08409864455461502, -0.09399767220020294, -0.0821058377623558, -0.08143710345029831, -0.08623577654361725, -0.0911731868982315, -0.09424708783626556, -0.07498057931661606, -0.09541120380163193, -0.07593477517366409, -0.09402924031019211, -0.07044932246208191, -0.08622126281261444, -0.08076034486293793, -0.08139064908027649, -0.09542243182659149, -0.08298654854297638, -0.08225761353969574, -0.08959874510765076, -0.08474251627922058, -0.0765475332736969, -0.07166223973035812, -0.11005613952875137, -0.06646525859832764, -0.0876082107424736, -0.08380910009145737, -0.08157296478748322, -0.06854753196239471, -0.08510061353445053, -0.08456473052501678, -0.06739731132984161, -0.09474371373653412, -0.09318963438272476, -0.08902381360530853, -0.09677062928676605, -0.07378428429365158, -0.14429280161857605, -0.07013894617557526, -0.07678396999835968, -0.09634687751531601, -0.09867892414331436, -0.09959995746612549, -0.08867984265089035, -0.12729690968990326, -0.07725870609283447, -0.09584807604551315, -0.056260280311107635, -0.11580710113048553, -0.12705297768115997, -0.12853190302848816, -0.10797841846942902, -0.12053751945495605, -0.10749693214893341, -0.09694908559322357, -0.09396761655807495, -0.09484177827835083, -0.13387297093868256, -0.09416775405406952, -0.1043516993522644, -0.09985670447349548, -0.11231844127178192, -0.09978491067886353, -0.07764925807714462, -0.10315127670764923, -0.17021217942237854, -0.13042530417442322, -0.12631076574325562, -0.10096970945596695, -0.09554408490657806, -0.14145927131175995, -0.16152967512607574, -0.1509072482585907, -0.16623324155807495, -0.13228192925453186, -0.11015208810567856, -0.16087421774864197, -0.13889525830745697, -0.09791756421327591, -0.15315404534339905, -0.1109490618109703, -0.1126861721277237, -0.11150622367858887, -0.1140577644109726, -0.19988976418972015, -0.15218232572078705, -0.11146730184555054, -0.14597786962985992, -0.14188098907470703, -0.20014944672584534, -0.13772878050804138, -0.14655061066150665, -0.1834520548582077, -0.15699619054794312, -0.1287466585636139, -0.1407541036605835, -0.13662509620189667, -0.13835373520851135, -0.07314347475767136]}],\n",
       "                        {\"template\": {\"data\": {\"bar\": [{\"error_x\": {\"color\": \"#2a3f5f\"}, \"error_y\": {\"color\": \"#2a3f5f\"}, \"marker\": {\"line\": {\"color\": \"#E5ECF6\", \"width\": 0.5}}, \"type\": \"bar\"}], \"barpolar\": [{\"marker\": {\"line\": {\"color\": \"#E5ECF6\", \"width\": 0.5}}, \"type\": \"barpolar\"}], \"carpet\": [{\"aaxis\": {\"endlinecolor\": \"#2a3f5f\", \"gridcolor\": \"white\", \"linecolor\": \"white\", \"minorgridcolor\": \"white\", \"startlinecolor\": \"#2a3f5f\"}, \"baxis\": {\"endlinecolor\": \"#2a3f5f\", \"gridcolor\": \"white\", \"linecolor\": \"white\", \"minorgridcolor\": \"white\", \"startlinecolor\": \"#2a3f5f\"}, \"type\": \"carpet\"}], \"choropleth\": [{\"colorbar\": {\"outlinewidth\": 0, \"ticks\": \"\"}, \"type\": \"choropleth\"}], \"contour\": [{\"colorbar\": {\"outlinewidth\": 0, \"ticks\": \"\"}, \"colorscale\": [[0.0, \"#0d0887\"], [0.1111111111111111, \"#46039f\"], [0.2222222222222222, \"#7201a8\"], [0.3333333333333333, \"#9c179e\"], [0.4444444444444444, \"#bd3786\"], [0.5555555555555556, \"#d8576b\"], [0.6666666666666666, \"#ed7953\"], [0.7777777777777778, \"#fb9f3a\"], [0.8888888888888888, \"#fdca26\"], [1.0, \"#f0f921\"]], \"type\": \"contour\"}], \"contourcarpet\": [{\"colorbar\": {\"outlinewidth\": 0, \"ticks\": \"\"}, \"type\": \"contourcarpet\"}], \"heatmap\": [{\"colorbar\": {\"outlinewidth\": 0, \"ticks\": \"\"}, \"colorscale\": [[0.0, \"#0d0887\"], [0.1111111111111111, \"#46039f\"], [0.2222222222222222, \"#7201a8\"], [0.3333333333333333, \"#9c179e\"], [0.4444444444444444, \"#bd3786\"], [0.5555555555555556, \"#d8576b\"], [0.6666666666666666, \"#ed7953\"], [0.7777777777777778, \"#fb9f3a\"], [0.8888888888888888, \"#fdca26\"], [1.0, \"#f0f921\"]], \"type\": \"heatmap\"}], \"heatmapgl\": [{\"colorbar\": {\"outlinewidth\": 0, \"ticks\": \"\"}, \"colorscale\": [[0.0, \"#0d0887\"], [0.1111111111111111, \"#46039f\"], [0.2222222222222222, \"#7201a8\"], [0.3333333333333333, \"#9c179e\"], [0.4444444444444444, \"#bd3786\"], [0.5555555555555556, \"#d8576b\"], [0.6666666666666666, \"#ed7953\"], [0.7777777777777778, \"#fb9f3a\"], [0.8888888888888888, \"#fdca26\"], [1.0, \"#f0f921\"]], \"type\": \"heatmapgl\"}], \"histogram\": [{\"marker\": {\"colorbar\": {\"outlinewidth\": 0, \"ticks\": \"\"}}, \"type\": \"histogram\"}], \"histogram2d\": [{\"colorbar\": {\"outlinewidth\": 0, \"ticks\": \"\"}, \"colorscale\": [[0.0, \"#0d0887\"], [0.1111111111111111, \"#46039f\"], [0.2222222222222222, \"#7201a8\"], [0.3333333333333333, \"#9c179e\"], [0.4444444444444444, \"#bd3786\"], [0.5555555555555556, \"#d8576b\"], [0.6666666666666666, \"#ed7953\"], [0.7777777777777778, \"#fb9f3a\"], [0.8888888888888888, \"#fdca26\"], [1.0, \"#f0f921\"]], \"type\": \"histogram2d\"}], \"histogram2dcontour\": [{\"colorbar\": {\"outlinewidth\": 0, \"ticks\": \"\"}, \"colorscale\": [[0.0, \"#0d0887\"], [0.1111111111111111, \"#46039f\"], [0.2222222222222222, \"#7201a8\"], [0.3333333333333333, \"#9c179e\"], [0.4444444444444444, \"#bd3786\"], [0.5555555555555556, \"#d8576b\"], [0.6666666666666666, \"#ed7953\"], [0.7777777777777778, \"#fb9f3a\"], [0.8888888888888888, \"#fdca26\"], [1.0, \"#f0f921\"]], \"type\": \"histogram2dcontour\"}], \"mesh3d\": [{\"colorbar\": {\"outlinewidth\": 0, \"ticks\": \"\"}, \"type\": \"mesh3d\"}], \"parcoords\": [{\"line\": {\"colorbar\": {\"outlinewidth\": 0, \"ticks\": \"\"}}, \"type\": \"parcoords\"}], \"scatter\": [{\"marker\": {\"colorbar\": {\"outlinewidth\": 0, \"ticks\": \"\"}}, \"type\": \"scatter\"}], \"scatter3d\": [{\"line\": {\"colorbar\": {\"outlinewidth\": 0, \"ticks\": \"\"}}, \"marker\": {\"colorbar\": {\"outlinewidth\": 0, \"ticks\": \"\"}}, \"type\": \"scatter3d\"}], \"scattercarpet\": [{\"marker\": {\"colorbar\": {\"outlinewidth\": 0, \"ticks\": \"\"}}, \"type\": \"scattercarpet\"}], \"scattergeo\": [{\"marker\": {\"colorbar\": {\"outlinewidth\": 0, \"ticks\": \"\"}}, \"type\": \"scattergeo\"}], \"scattergl\": [{\"marker\": {\"colorbar\": {\"outlinewidth\": 0, \"ticks\": \"\"}}, \"type\": \"scattergl\"}], \"scattermapbox\": [{\"marker\": {\"colorbar\": {\"outlinewidth\": 0, \"ticks\": \"\"}}, \"type\": \"scattermapbox\"}], \"scatterpolar\": [{\"marker\": {\"colorbar\": {\"outlinewidth\": 0, \"ticks\": \"\"}}, \"type\": \"scatterpolar\"}], \"scatterpolargl\": [{\"marker\": {\"colorbar\": {\"outlinewidth\": 0, \"ticks\": \"\"}}, \"type\": \"scatterpolargl\"}], \"scatterternary\": [{\"marker\": {\"colorbar\": {\"outlinewidth\": 0, \"ticks\": \"\"}}, \"type\": \"scatterternary\"}], \"surface\": [{\"colorbar\": {\"outlinewidth\": 0, \"ticks\": \"\"}, \"colorscale\": [[0.0, \"#0d0887\"], [0.1111111111111111, \"#46039f\"], [0.2222222222222222, \"#7201a8\"], [0.3333333333333333, \"#9c179e\"], [0.4444444444444444, \"#bd3786\"], [0.5555555555555556, \"#d8576b\"], [0.6666666666666666, \"#ed7953\"], [0.7777777777777778, \"#fb9f3a\"], [0.8888888888888888, \"#fdca26\"], [1.0, \"#f0f921\"]], \"type\": \"surface\"}], \"table\": [{\"cells\": {\"fill\": {\"color\": \"#EBF0F8\"}, \"line\": {\"color\": \"white\"}}, \"header\": {\"fill\": {\"color\": \"#C8D4E3\"}, \"line\": {\"color\": \"white\"}}, \"type\": \"table\"}]}, \"layout\": {\"annotationdefaults\": {\"arrowcolor\": \"#2a3f5f\", \"arrowhead\": 0, \"arrowwidth\": 1}, \"colorscale\": {\"diverging\": [[0, \"#8e0152\"], [0.1, \"#c51b7d\"], [0.2, \"#de77ae\"], [0.3, \"#f1b6da\"], [0.4, \"#fde0ef\"], [0.5, \"#f7f7f7\"], [0.6, \"#e6f5d0\"], [0.7, \"#b8e186\"], [0.8, \"#7fbc41\"], [0.9, \"#4d9221\"], [1, \"#276419\"]], \"sequential\": [[0.0, \"#0d0887\"], [0.1111111111111111, \"#46039f\"], [0.2222222222222222, \"#7201a8\"], [0.3333333333333333, \"#9c179e\"], [0.4444444444444444, \"#bd3786\"], [0.5555555555555556, \"#d8576b\"], [0.6666666666666666, \"#ed7953\"], [0.7777777777777778, \"#fb9f3a\"], [0.8888888888888888, \"#fdca26\"], [1.0, \"#f0f921\"]], \"sequentialminus\": [[0.0, \"#0d0887\"], [0.1111111111111111, \"#46039f\"], [0.2222222222222222, \"#7201a8\"], [0.3333333333333333, \"#9c179e\"], [0.4444444444444444, \"#bd3786\"], [0.5555555555555556, \"#d8576b\"], [0.6666666666666666, \"#ed7953\"], [0.7777777777777778, \"#fb9f3a\"], [0.8888888888888888, \"#fdca26\"], [1.0, \"#f0f921\"]]}, \"colorway\": [\"#636efa\", \"#EF553B\", \"#00cc96\", \"#ab63fa\", \"#FFA15A\", \"#19d3f3\", \"#FF6692\", \"#B6E880\", \"#FF97FF\", \"#FECB52\"], \"font\": {\"color\": \"#2a3f5f\"}, \"geo\": {\"bgcolor\": \"white\", \"lakecolor\": \"white\", \"landcolor\": \"#E5ECF6\", \"showlakes\": true, \"showland\": true, \"subunitcolor\": \"white\"}, \"hoverlabel\": {\"align\": \"left\"}, \"hovermode\": \"closest\", \"mapbox\": {\"style\": \"light\"}, \"paper_bgcolor\": \"white\", \"plot_bgcolor\": \"#E5ECF6\", \"polar\": {\"angularaxis\": {\"gridcolor\": \"white\", \"linecolor\": \"white\", \"ticks\": \"\"}, \"bgcolor\": \"#E5ECF6\", \"radialaxis\": {\"gridcolor\": \"white\", \"linecolor\": \"white\", \"ticks\": \"\"}}, \"scene\": {\"xaxis\": {\"backgroundcolor\": \"#E5ECF6\", \"gridcolor\": \"white\", \"gridwidth\": 2, \"linecolor\": \"white\", \"showbackground\": true, \"ticks\": \"\", \"zerolinecolor\": \"white\"}, \"yaxis\": {\"backgroundcolor\": \"#E5ECF6\", \"gridcolor\": \"white\", \"gridwidth\": 2, \"linecolor\": \"white\", \"showbackground\": true, \"ticks\": \"\", \"zerolinecolor\": \"white\"}, \"zaxis\": {\"backgroundcolor\": \"#E5ECF6\", \"gridcolor\": \"white\", \"gridwidth\": 2, \"linecolor\": \"white\", \"showbackground\": true, \"ticks\": \"\", \"zerolinecolor\": \"white\"}}, \"shapedefaults\": {\"line\": {\"color\": \"#2a3f5f\"}}, \"ternary\": {\"aaxis\": {\"gridcolor\": \"white\", \"linecolor\": \"white\", \"ticks\": \"\"}, \"baxis\": {\"gridcolor\": \"white\", \"linecolor\": \"white\", \"ticks\": \"\"}, \"bgcolor\": \"#E5ECF6\", \"caxis\": {\"gridcolor\": \"white\", \"linecolor\": \"white\", \"ticks\": \"\"}}, \"title\": {\"x\": 0.05}, \"xaxis\": {\"automargin\": true, \"gridcolor\": \"white\", \"linecolor\": \"white\", \"ticks\": \"\", \"zerolinecolor\": \"white\", \"zerolinewidth\": 2}, \"yaxis\": {\"automargin\": true, \"gridcolor\": \"white\", \"linecolor\": \"white\", \"ticks\": \"\", \"zerolinecolor\": \"white\", \"zerolinewidth\": 2}}}, \"title\": {\"text\": \"Negative Log Likelihood Per Batch\"}, \"xaxis\": {\"title\": {\"text\": \"Batch (size=20)\"}}, \"yaxis\": {\"title\": {\"text\": \"NLL\"}}},\n",
       "                        {\"responsive\": true}\n",
       "                    ).then(function(){\n",
       "                            \n",
       "var gd = document.getElementById('e66a1da0-04a4-4f42-82f5-4bc05cdf35c1');\n",
       "var x = new MutationObserver(function (mutations, observer) {{\n",
       "        var display = window.getComputedStyle(gd).display;\n",
       "        if (!display || display === 'none') {{\n",
       "            console.log([gd, 'removed!']);\n",
       "            Plotly.purge(gd);\n",
       "            observer.disconnect();\n",
       "        }}\n",
       "}});\n",
       "\n",
       "// Listen for the removal of the full notebook cells\n",
       "var notebookContainer = gd.closest('#notebook-container');\n",
       "if (notebookContainer) {{\n",
       "    x.observe(notebookContainer, {childList: true});\n",
       "}}\n",
       "\n",
       "// Listen for the clearing of the current output cell\n",
       "var outputEl = gd.closest('.output');\n",
       "if (outputEl) {{\n",
       "    x.observe(outputEl, {childList: true});\n",
       "}}\n",
       "\n",
       "                        })\n",
       "                };\n",
       "                });\n",
       "            </script>\n",
       "        </div>"
      ]
     },
     "metadata": {},
     "output_type": "display_data"
    }
   ],
   "source": [
    "# plot training loss\n",
    "plot_data = [\n",
    "    go.Scatter(\n",
    "        x=np.arange(len(losses)),\n",
    "        y=losses,\n",
    "        mode='lines')\n",
    "]\n",
    "\n",
    "layout = dict(\n",
    "    title='Negative Log Likelihood Per Batch',\n",
    "    yaxis=dict(title='NLL'),\n",
    "    xaxis=dict(title='Batch (size={})'.format(batch_size))\n",
    ")\n",
    "fig = go.Figure(data=plot_data, layout=layout)\n",
    "fig.show()\n"
   ]
  },
  {
   "cell_type": "markdown",
   "metadata": {},
   "source": [
    "# Logistic Regression via Prior Network methodology"
   ]
  },
  {
   "cell_type": "markdown",
   "metadata": {},
   "source": [
    "We will first train the logistic regression model using the prior network methodology by minimizing the forward KL divergence."
   ]
  },
  {
   "cell_type": "code",
   "execution_count": 212,
   "metadata": {},
   "outputs": [],
   "source": [
    "# now, we transition towards trying the prior networks approach.\n",
    "# we will first attempt to train using the left term of Equation 12\n",
    "\n",
    "# define softened labels\n",
    "one_hot_labels = F.one_hot(labels).to(torch.float32)\n",
    "epsilon = 0.01\n",
    "soft_labels = one_hot_labels - one_hot_labels * len(mu) * epsilon + epsilon\n",
    "soft_concentrations = alpha_0 * soft_labels"
   ]
  },
  {
   "cell_type": "code",
   "execution_count": 213,
   "metadata": {},
   "outputs": [
    {
     "data": {
      "text/plain": [
       "torch.Size([498, 3])"
      ]
     },
     "execution_count": 213,
     "metadata": {},
     "output_type": "execute_result"
    }
   ],
   "source": [
    "soft_concentrations.shape"
   ]
  },
  {
   "cell_type": "code",
   "execution_count": 215,
   "metadata": {},
   "outputs": [
    {
     "data": {
      "text/plain": [
       "torch.Size([498, 3])"
      ]
     },
     "execution_count": 215,
     "metadata": {},
     "output_type": "execute_result"
    }
   ],
   "source": [
    "soft_labels.shape"
   ]
  },
  {
   "cell_type": "code",
   "execution_count": 106,
   "metadata": {},
   "outputs": [],
   "source": [
    "# define loss function\n",
    "# first term of equation 12. See\n",
    "# https://github.com/KaosEngineer/PriorNetworks-OLD/blob/master/prior_networks/dirichlet/dirichlet_prior_network_synth.py#L107\n",
    "\n",
    "def eqn_twelve_forward(model_softmax_outputs, target_concentrations):\n",
    "    target_dirichlet = Dirichlet(target_concentrations)\n",
    "    model_dirichlet = Dirichlet(model_softmax_outputs)\n",
    "    kl_divs = _kl_dirichlet_dirichlet(p=target_dirichlet, q=model_dirichlet)\n",
    "    assert_no_nan_no_inf(kl_divs)\n",
    "    mean_kl = torch.mean(kl_divs)\n",
    "    return mean_kl"
   ]
  },
  {
   "cell_type": "code",
   "execution_count": 107,
   "metadata": {
    "scrolled": true
   },
   "outputs": [
    {
     "name": "stdout",
     "output_type": "stream",
     "text": [
      "Step: 0, Loss: 17.7061767578125\n",
      "Step: 1, Loss: 10.016121864318848\n",
      "Step: 2, Loss: 8.800432205200195\n",
      "Step: 3, Loss: 3.718099594116211\n",
      "Step: 4, Loss: 2.329742908477783\n",
      "Step: 5, Loss: 1.1033433675765991\n",
      "Step: 6, Loss: 1.159627914428711\n",
      "Step: 7, Loss: 0.8627325296401978\n",
      "Step: 8, Loss: 0.580398440361023\n",
      "Step: 9, Loss: 0.6018229126930237\n",
      "Step: 10, Loss: 0.5122735500335693\n",
      "Step: 11, Loss: 0.43704286217689514\n",
      "Step: 12, Loss: 0.41188955307006836\n",
      "Step: 13, Loss: 0.2760729193687439\n",
      "Step: 14, Loss: 0.38733425736427307\n",
      "Step: 15, Loss: 0.393149733543396\n",
      "Step: 16, Loss: 0.4998932480812073\n",
      "Step: 17, Loss: 0.4875829815864563\n",
      "Step: 18, Loss: 0.38744550943374634\n",
      "Step: 19, Loss: 0.27452465891838074\n",
      "Step: 20, Loss: 0.32463741302490234\n",
      "Step: 21, Loss: 0.4465484619140625\n",
      "Step: 22, Loss: 0.357949435710907\n",
      "Step: 23, Loss: 0.3748215138912201\n",
      "Step: 24, Loss: 0.4102489948272705\n",
      "Step: 25, Loss: 0.380035400390625\n",
      "Step: 26, Loss: 0.3438263535499573\n",
      "Step: 27, Loss: 0.29479360580444336\n",
      "Step: 28, Loss: 0.41333532333374023\n",
      "Step: 29, Loss: 0.26105737686157227\n",
      "Step: 30, Loss: 0.36346855759620667\n",
      "Step: 31, Loss: 0.25058045983314514\n",
      "Step: 32, Loss: 0.2482369840145111\n",
      "Step: 33, Loss: 0.2884308397769928\n",
      "Step: 34, Loss: 0.436087042093277\n",
      "Step: 35, Loss: 0.27227041125297546\n",
      "Step: 36, Loss: 0.3003078103065491\n",
      "Step: 37, Loss: 0.36238542199134827\n",
      "Step: 38, Loss: 0.31799930334091187\n",
      "Step: 39, Loss: 0.34502774477005005\n",
      "Step: 40, Loss: 0.4394753575325012\n",
      "Step: 41, Loss: 0.49601036310195923\n",
      "Step: 42, Loss: 0.341198205947876\n",
      "Step: 43, Loss: 0.2605881094932556\n",
      "Step: 44, Loss: 0.5043319463729858\n",
      "Step: 45, Loss: 0.42174798250198364\n",
      "Step: 46, Loss: 0.506104052066803\n",
      "Step: 47, Loss: 0.33440151810646057\n",
      "Step: 48, Loss: 0.4844442903995514\n",
      "Step: 49, Loss: 0.2179754078388214\n",
      "Step: 50, Loss: 0.20606639981269836\n",
      "Step: 51, Loss: 0.4328297972679138\n",
      "Step: 52, Loss: 0.3467317521572113\n",
      "Step: 53, Loss: 0.44161257147789\n",
      "Step: 54, Loss: 0.3729775846004486\n",
      "Step: 55, Loss: 0.3566170334815979\n",
      "Step: 56, Loss: 0.4336170256137848\n",
      "Step: 57, Loss: 0.26768216490745544\n",
      "Step: 58, Loss: 0.3469361662864685\n",
      "Step: 59, Loss: 0.46643123030662537\n",
      "Step: 60, Loss: 0.38606101274490356\n",
      "Step: 61, Loss: 0.33755454421043396\n",
      "Step: 62, Loss: 0.3218843340873718\n",
      "Step: 63, Loss: 0.21345695853233337\n",
      "Step: 64, Loss: 0.4813200533390045\n",
      "Step: 65, Loss: 0.27532947063446045\n",
      "Step: 66, Loss: 0.3117009997367859\n",
      "Step: 67, Loss: 0.410787433385849\n",
      "Step: 68, Loss: 0.5301390886306763\n",
      "Step: 69, Loss: 0.31316113471984863\n",
      "Step: 70, Loss: 0.330402135848999\n",
      "Step: 71, Loss: 0.3630821704864502\n",
      "Step: 72, Loss: 0.3314994275569916\n",
      "Step: 73, Loss: 0.33011022210121155\n",
      "Step: 74, Loss: 0.3190138638019562\n",
      "Step: 75, Loss: 0.2833743989467621\n",
      "Step: 76, Loss: 0.38590699434280396\n",
      "Step: 77, Loss: 0.36482352018356323\n",
      "Step: 78, Loss: 0.29731836915016174\n",
      "Step: 79, Loss: 0.36581382155418396\n",
      "Step: 80, Loss: 0.44378143548965454\n",
      "Step: 81, Loss: 0.3212253451347351\n",
      "Step: 82, Loss: 0.4050382673740387\n",
      "Step: 83, Loss: 0.394936740398407\n",
      "Step: 84, Loss: 0.33641231060028076\n",
      "Step: 85, Loss: 0.349516361951828\n",
      "Step: 86, Loss: 0.42220956087112427\n",
      "Step: 87, Loss: 0.4656956195831299\n",
      "Step: 88, Loss: 0.35752031207084656\n",
      "Step: 89, Loss: 0.34247252345085144\n",
      "Step: 90, Loss: 0.210713192820549\n",
      "Step: 91, Loss: 0.3731532096862793\n",
      "Step: 92, Loss: 0.32576578855514526\n",
      "Step: 93, Loss: 0.286714106798172\n",
      "Step: 94, Loss: 0.40999937057495117\n",
      "Step: 95, Loss: 0.3147844672203064\n",
      "Step: 96, Loss: 0.36836835741996765\n",
      "Step: 97, Loss: 0.3216885030269623\n",
      "Step: 98, Loss: 0.4024462103843689\n",
      "Step: 99, Loss: 0.5078858137130737\n"
     ]
    }
   ],
   "source": [
    "# create new network\n",
    "pn_forward_net = Network(alpha_0=alpha_0)\n",
    "optimizer = optim.SGD(pn_forward_net.parameters(), lr=0.01)\n",
    "\n",
    "\n",
    "# train!\n",
    "losses, grad_norms = [], []\n",
    "for step in range(num_training_steps):\n",
    "    optimizer.zero_grad()   # zero the gradient buffers\n",
    "    batch_idx = np.random.choice(\n",
    "        np.arange(num_points),\n",
    "        size=batch_size,\n",
    "        replace=False)\n",
    "    batch_samples = samples[batch_idx]\n",
    "    batch_concentrations = soft_concentrations[batch_idx]\n",
    "    pred_labels = pn_forward_net(batch_samples)\n",
    "    loss = eqn_twelve_forward(\n",
    "        model_softmax_outputs=pred_labels,\n",
    "        target_concentrations=batch_concentrations)\n",
    "    print('Step: {}, Loss: {}'.format(step, loss.item()))\n",
    "    losses.append(loss.item())\n",
    "    loss.backward()\n",
    "    optimizer.step()"
   ]
  },
  {
   "cell_type": "code",
   "execution_count": 108,
   "metadata": {},
   "outputs": [
    {
     "data": {
      "text/plain": [
       "tensor([[0.9546, 0.0233, 0.0221],\n",
       "        [0.0160, 0.0222, 0.9618],\n",
       "        [0.8907, 0.0509, 0.0585],\n",
       "        ...,\n",
       "        [0.0250, 0.9473, 0.0277],\n",
       "        [0.0231, 0.0400, 0.9368],\n",
       "        [0.0634, 0.0251, 0.9115]], grad_fn=<SoftmaxBackward>)"
      ]
     },
     "execution_count": 108,
     "metadata": {},
     "output_type": "execute_result"
    }
   ],
   "source": [
    "pn_forward_net.forward(samples)"
   ]
  },
  {
   "cell_type": "code",
   "execution_count": 109,
   "metadata": {},
   "outputs": [
    {
     "data": {
      "application/vnd.plotly.v1+json": {
       "config": {
        "plotlyServerURL": "https://plot.ly"
       },
       "data": [
        {
         "mode": "lines",
         "type": "scatter",
         "x": [
          0,
          1,
          2,
          3,
          4,
          5,
          6,
          7,
          8,
          9,
          10,
          11,
          12,
          13,
          14,
          15,
          16,
          17,
          18,
          19,
          20,
          21,
          22,
          23,
          24,
          25,
          26,
          27,
          28,
          29,
          30,
          31,
          32,
          33,
          34,
          35,
          36,
          37,
          38,
          39,
          40,
          41,
          42,
          43,
          44,
          45,
          46,
          47,
          48,
          49,
          50,
          51,
          52,
          53,
          54,
          55,
          56,
          57,
          58,
          59,
          60,
          61,
          62,
          63,
          64,
          65,
          66,
          67,
          68,
          69,
          70,
          71,
          72,
          73,
          74,
          75,
          76,
          77,
          78,
          79,
          80,
          81,
          82,
          83,
          84,
          85,
          86,
          87,
          88,
          89,
          90,
          91,
          92,
          93,
          94,
          95,
          96,
          97,
          98,
          99
         ],
         "y": [
          17.7061767578125,
          10.016121864318848,
          8.800432205200195,
          3.718099594116211,
          2.329742908477783,
          1.1033433675765991,
          1.159627914428711,
          0.8627325296401978,
          0.580398440361023,
          0.6018229126930237,
          0.5122735500335693,
          0.43704286217689514,
          0.41188955307006836,
          0.2760729193687439,
          0.38733425736427307,
          0.393149733543396,
          0.4998932480812073,
          0.4875829815864563,
          0.38744550943374634,
          0.27452465891838074,
          0.32463741302490234,
          0.4465484619140625,
          0.357949435710907,
          0.3748215138912201,
          0.4102489948272705,
          0.380035400390625,
          0.3438263535499573,
          0.29479360580444336,
          0.41333532333374023,
          0.26105737686157227,
          0.36346855759620667,
          0.25058045983314514,
          0.2482369840145111,
          0.2884308397769928,
          0.436087042093277,
          0.27227041125297546,
          0.3003078103065491,
          0.36238542199134827,
          0.31799930334091187,
          0.34502774477005005,
          0.4394753575325012,
          0.49601036310195923,
          0.341198205947876,
          0.2605881094932556,
          0.5043319463729858,
          0.42174798250198364,
          0.506104052066803,
          0.33440151810646057,
          0.4844442903995514,
          0.2179754078388214,
          0.20606639981269836,
          0.4328297972679138,
          0.3467317521572113,
          0.44161257147789,
          0.3729775846004486,
          0.3566170334815979,
          0.4336170256137848,
          0.26768216490745544,
          0.3469361662864685,
          0.46643123030662537,
          0.38606101274490356,
          0.33755454421043396,
          0.3218843340873718,
          0.21345695853233337,
          0.4813200533390045,
          0.27532947063446045,
          0.3117009997367859,
          0.410787433385849,
          0.5301390886306763,
          0.31316113471984863,
          0.330402135848999,
          0.3630821704864502,
          0.3314994275569916,
          0.33011022210121155,
          0.3190138638019562,
          0.2833743989467621,
          0.38590699434280396,
          0.36482352018356323,
          0.29731836915016174,
          0.36581382155418396,
          0.44378143548965454,
          0.3212253451347351,
          0.4050382673740387,
          0.394936740398407,
          0.33641231060028076,
          0.349516361951828,
          0.42220956087112427,
          0.4656956195831299,
          0.35752031207084656,
          0.34247252345085144,
          0.210713192820549,
          0.3731532096862793,
          0.32576578855514526,
          0.286714106798172,
          0.40999937057495117,
          0.3147844672203064,
          0.36836835741996765,
          0.3216885030269623,
          0.4024462103843689,
          0.5078858137130737
         ]
        }
       ],
       "layout": {
        "template": {
         "data": {
          "bar": [
           {
            "error_x": {
             "color": "#2a3f5f"
            },
            "error_y": {
             "color": "#2a3f5f"
            },
            "marker": {
             "line": {
              "color": "#E5ECF6",
              "width": 0.5
             }
            },
            "type": "bar"
           }
          ],
          "barpolar": [
           {
            "marker": {
             "line": {
              "color": "#E5ECF6",
              "width": 0.5
             }
            },
            "type": "barpolar"
           }
          ],
          "carpet": [
           {
            "aaxis": {
             "endlinecolor": "#2a3f5f",
             "gridcolor": "white",
             "linecolor": "white",
             "minorgridcolor": "white",
             "startlinecolor": "#2a3f5f"
            },
            "baxis": {
             "endlinecolor": "#2a3f5f",
             "gridcolor": "white",
             "linecolor": "white",
             "minorgridcolor": "white",
             "startlinecolor": "#2a3f5f"
            },
            "type": "carpet"
           }
          ],
          "choropleth": [
           {
            "colorbar": {
             "outlinewidth": 0,
             "ticks": ""
            },
            "type": "choropleth"
           }
          ],
          "contour": [
           {
            "colorbar": {
             "outlinewidth": 0,
             "ticks": ""
            },
            "colorscale": [
             [
              0,
              "#0d0887"
             ],
             [
              0.1111111111111111,
              "#46039f"
             ],
             [
              0.2222222222222222,
              "#7201a8"
             ],
             [
              0.3333333333333333,
              "#9c179e"
             ],
             [
              0.4444444444444444,
              "#bd3786"
             ],
             [
              0.5555555555555556,
              "#d8576b"
             ],
             [
              0.6666666666666666,
              "#ed7953"
             ],
             [
              0.7777777777777778,
              "#fb9f3a"
             ],
             [
              0.8888888888888888,
              "#fdca26"
             ],
             [
              1,
              "#f0f921"
             ]
            ],
            "type": "contour"
           }
          ],
          "contourcarpet": [
           {
            "colorbar": {
             "outlinewidth": 0,
             "ticks": ""
            },
            "type": "contourcarpet"
           }
          ],
          "heatmap": [
           {
            "colorbar": {
             "outlinewidth": 0,
             "ticks": ""
            },
            "colorscale": [
             [
              0,
              "#0d0887"
             ],
             [
              0.1111111111111111,
              "#46039f"
             ],
             [
              0.2222222222222222,
              "#7201a8"
             ],
             [
              0.3333333333333333,
              "#9c179e"
             ],
             [
              0.4444444444444444,
              "#bd3786"
             ],
             [
              0.5555555555555556,
              "#d8576b"
             ],
             [
              0.6666666666666666,
              "#ed7953"
             ],
             [
              0.7777777777777778,
              "#fb9f3a"
             ],
             [
              0.8888888888888888,
              "#fdca26"
             ],
             [
              1,
              "#f0f921"
             ]
            ],
            "type": "heatmap"
           }
          ],
          "heatmapgl": [
           {
            "colorbar": {
             "outlinewidth": 0,
             "ticks": ""
            },
            "colorscale": [
             [
              0,
              "#0d0887"
             ],
             [
              0.1111111111111111,
              "#46039f"
             ],
             [
              0.2222222222222222,
              "#7201a8"
             ],
             [
              0.3333333333333333,
              "#9c179e"
             ],
             [
              0.4444444444444444,
              "#bd3786"
             ],
             [
              0.5555555555555556,
              "#d8576b"
             ],
             [
              0.6666666666666666,
              "#ed7953"
             ],
             [
              0.7777777777777778,
              "#fb9f3a"
             ],
             [
              0.8888888888888888,
              "#fdca26"
             ],
             [
              1,
              "#f0f921"
             ]
            ],
            "type": "heatmapgl"
           }
          ],
          "histogram": [
           {
            "marker": {
             "colorbar": {
              "outlinewidth": 0,
              "ticks": ""
             }
            },
            "type": "histogram"
           }
          ],
          "histogram2d": [
           {
            "colorbar": {
             "outlinewidth": 0,
             "ticks": ""
            },
            "colorscale": [
             [
              0,
              "#0d0887"
             ],
             [
              0.1111111111111111,
              "#46039f"
             ],
             [
              0.2222222222222222,
              "#7201a8"
             ],
             [
              0.3333333333333333,
              "#9c179e"
             ],
             [
              0.4444444444444444,
              "#bd3786"
             ],
             [
              0.5555555555555556,
              "#d8576b"
             ],
             [
              0.6666666666666666,
              "#ed7953"
             ],
             [
              0.7777777777777778,
              "#fb9f3a"
             ],
             [
              0.8888888888888888,
              "#fdca26"
             ],
             [
              1,
              "#f0f921"
             ]
            ],
            "type": "histogram2d"
           }
          ],
          "histogram2dcontour": [
           {
            "colorbar": {
             "outlinewidth": 0,
             "ticks": ""
            },
            "colorscale": [
             [
              0,
              "#0d0887"
             ],
             [
              0.1111111111111111,
              "#46039f"
             ],
             [
              0.2222222222222222,
              "#7201a8"
             ],
             [
              0.3333333333333333,
              "#9c179e"
             ],
             [
              0.4444444444444444,
              "#bd3786"
             ],
             [
              0.5555555555555556,
              "#d8576b"
             ],
             [
              0.6666666666666666,
              "#ed7953"
             ],
             [
              0.7777777777777778,
              "#fb9f3a"
             ],
             [
              0.8888888888888888,
              "#fdca26"
             ],
             [
              1,
              "#f0f921"
             ]
            ],
            "type": "histogram2dcontour"
           }
          ],
          "mesh3d": [
           {
            "colorbar": {
             "outlinewidth": 0,
             "ticks": ""
            },
            "type": "mesh3d"
           }
          ],
          "parcoords": [
           {
            "line": {
             "colorbar": {
              "outlinewidth": 0,
              "ticks": ""
             }
            },
            "type": "parcoords"
           }
          ],
          "scatter": [
           {
            "marker": {
             "colorbar": {
              "outlinewidth": 0,
              "ticks": ""
             }
            },
            "type": "scatter"
           }
          ],
          "scatter3d": [
           {
            "line": {
             "colorbar": {
              "outlinewidth": 0,
              "ticks": ""
             }
            },
            "marker": {
             "colorbar": {
              "outlinewidth": 0,
              "ticks": ""
             }
            },
            "type": "scatter3d"
           }
          ],
          "scattercarpet": [
           {
            "marker": {
             "colorbar": {
              "outlinewidth": 0,
              "ticks": ""
             }
            },
            "type": "scattercarpet"
           }
          ],
          "scattergeo": [
           {
            "marker": {
             "colorbar": {
              "outlinewidth": 0,
              "ticks": ""
             }
            },
            "type": "scattergeo"
           }
          ],
          "scattergl": [
           {
            "marker": {
             "colorbar": {
              "outlinewidth": 0,
              "ticks": ""
             }
            },
            "type": "scattergl"
           }
          ],
          "scattermapbox": [
           {
            "marker": {
             "colorbar": {
              "outlinewidth": 0,
              "ticks": ""
             }
            },
            "type": "scattermapbox"
           }
          ],
          "scatterpolar": [
           {
            "marker": {
             "colorbar": {
              "outlinewidth": 0,
              "ticks": ""
             }
            },
            "type": "scatterpolar"
           }
          ],
          "scatterpolargl": [
           {
            "marker": {
             "colorbar": {
              "outlinewidth": 0,
              "ticks": ""
             }
            },
            "type": "scatterpolargl"
           }
          ],
          "scatterternary": [
           {
            "marker": {
             "colorbar": {
              "outlinewidth": 0,
              "ticks": ""
             }
            },
            "type": "scatterternary"
           }
          ],
          "surface": [
           {
            "colorbar": {
             "outlinewidth": 0,
             "ticks": ""
            },
            "colorscale": [
             [
              0,
              "#0d0887"
             ],
             [
              0.1111111111111111,
              "#46039f"
             ],
             [
              0.2222222222222222,
              "#7201a8"
             ],
             [
              0.3333333333333333,
              "#9c179e"
             ],
             [
              0.4444444444444444,
              "#bd3786"
             ],
             [
              0.5555555555555556,
              "#d8576b"
             ],
             [
              0.6666666666666666,
              "#ed7953"
             ],
             [
              0.7777777777777778,
              "#fb9f3a"
             ],
             [
              0.8888888888888888,
              "#fdca26"
             ],
             [
              1,
              "#f0f921"
             ]
            ],
            "type": "surface"
           }
          ],
          "table": [
           {
            "cells": {
             "fill": {
              "color": "#EBF0F8"
             },
             "line": {
              "color": "white"
             }
            },
            "header": {
             "fill": {
              "color": "#C8D4E3"
             },
             "line": {
              "color": "white"
             }
            },
            "type": "table"
           }
          ]
         },
         "layout": {
          "annotationdefaults": {
           "arrowcolor": "#2a3f5f",
           "arrowhead": 0,
           "arrowwidth": 1
          },
          "colorscale": {
           "diverging": [
            [
             0,
             "#8e0152"
            ],
            [
             0.1,
             "#c51b7d"
            ],
            [
             0.2,
             "#de77ae"
            ],
            [
             0.3,
             "#f1b6da"
            ],
            [
             0.4,
             "#fde0ef"
            ],
            [
             0.5,
             "#f7f7f7"
            ],
            [
             0.6,
             "#e6f5d0"
            ],
            [
             0.7,
             "#b8e186"
            ],
            [
             0.8,
             "#7fbc41"
            ],
            [
             0.9,
             "#4d9221"
            ],
            [
             1,
             "#276419"
            ]
           ],
           "sequential": [
            [
             0,
             "#0d0887"
            ],
            [
             0.1111111111111111,
             "#46039f"
            ],
            [
             0.2222222222222222,
             "#7201a8"
            ],
            [
             0.3333333333333333,
             "#9c179e"
            ],
            [
             0.4444444444444444,
             "#bd3786"
            ],
            [
             0.5555555555555556,
             "#d8576b"
            ],
            [
             0.6666666666666666,
             "#ed7953"
            ],
            [
             0.7777777777777778,
             "#fb9f3a"
            ],
            [
             0.8888888888888888,
             "#fdca26"
            ],
            [
             1,
             "#f0f921"
            ]
           ],
           "sequentialminus": [
            [
             0,
             "#0d0887"
            ],
            [
             0.1111111111111111,
             "#46039f"
            ],
            [
             0.2222222222222222,
             "#7201a8"
            ],
            [
             0.3333333333333333,
             "#9c179e"
            ],
            [
             0.4444444444444444,
             "#bd3786"
            ],
            [
             0.5555555555555556,
             "#d8576b"
            ],
            [
             0.6666666666666666,
             "#ed7953"
            ],
            [
             0.7777777777777778,
             "#fb9f3a"
            ],
            [
             0.8888888888888888,
             "#fdca26"
            ],
            [
             1,
             "#f0f921"
            ]
           ]
          },
          "colorway": [
           "#636efa",
           "#EF553B",
           "#00cc96",
           "#ab63fa",
           "#FFA15A",
           "#19d3f3",
           "#FF6692",
           "#B6E880",
           "#FF97FF",
           "#FECB52"
          ],
          "font": {
           "color": "#2a3f5f"
          },
          "geo": {
           "bgcolor": "white",
           "lakecolor": "white",
           "landcolor": "#E5ECF6",
           "showlakes": true,
           "showland": true,
           "subunitcolor": "white"
          },
          "hoverlabel": {
           "align": "left"
          },
          "hovermode": "closest",
          "mapbox": {
           "style": "light"
          },
          "paper_bgcolor": "white",
          "plot_bgcolor": "#E5ECF6",
          "polar": {
           "angularaxis": {
            "gridcolor": "white",
            "linecolor": "white",
            "ticks": ""
           },
           "bgcolor": "#E5ECF6",
           "radialaxis": {
            "gridcolor": "white",
            "linecolor": "white",
            "ticks": ""
           }
          },
          "scene": {
           "xaxis": {
            "backgroundcolor": "#E5ECF6",
            "gridcolor": "white",
            "gridwidth": 2,
            "linecolor": "white",
            "showbackground": true,
            "ticks": "",
            "zerolinecolor": "white"
           },
           "yaxis": {
            "backgroundcolor": "#E5ECF6",
            "gridcolor": "white",
            "gridwidth": 2,
            "linecolor": "white",
            "showbackground": true,
            "ticks": "",
            "zerolinecolor": "white"
           },
           "zaxis": {
            "backgroundcolor": "#E5ECF6",
            "gridcolor": "white",
            "gridwidth": 2,
            "linecolor": "white",
            "showbackground": true,
            "ticks": "",
            "zerolinecolor": "white"
           }
          },
          "shapedefaults": {
           "line": {
            "color": "#2a3f5f"
           }
          },
          "ternary": {
           "aaxis": {
            "gridcolor": "white",
            "linecolor": "white",
            "ticks": ""
           },
           "baxis": {
            "gridcolor": "white",
            "linecolor": "white",
            "ticks": ""
           },
           "bgcolor": "#E5ECF6",
           "caxis": {
            "gridcolor": "white",
            "linecolor": "white",
            "ticks": ""
           }
          },
          "title": {
           "x": 0.05
          },
          "xaxis": {
           "automargin": true,
           "gridcolor": "white",
           "linecolor": "white",
           "ticks": "",
           "zerolinecolor": "white",
           "zerolinewidth": 2
          },
          "yaxis": {
           "automargin": true,
           "gridcolor": "white",
           "linecolor": "white",
           "ticks": "",
           "zerolinecolor": "white",
           "zerolinewidth": 2
          }
         }
        },
        "title": {
         "text": "Eqn 12 Term 1 Loss Per Batch"
        },
        "xaxis": {
         "title": {
          "text": "Batch (size=20)"
         }
        },
        "yaxis": {
         "title": {
          "text": "Loss"
         }
        }
       }
      },
      "text/html": [
       "<div>\n",
       "        \n",
       "        \n",
       "            <div id=\"09664238-a0ff-4363-96e7-52b230b8e3a3\" class=\"plotly-graph-div\" style=\"height:525px; width:100%;\"></div>\n",
       "            <script type=\"text/javascript\">\n",
       "                require([\"plotly\"], function(Plotly) {\n",
       "                    window.PLOTLYENV=window.PLOTLYENV || {};\n",
       "                    \n",
       "                if (document.getElementById(\"09664238-a0ff-4363-96e7-52b230b8e3a3\")) {\n",
       "                    Plotly.newPlot(\n",
       "                        '09664238-a0ff-4363-96e7-52b230b8e3a3',\n",
       "                        [{\"mode\": \"lines\", \"type\": \"scatter\", \"x\": [0, 1, 2, 3, 4, 5, 6, 7, 8, 9, 10, 11, 12, 13, 14, 15, 16, 17, 18, 19, 20, 21, 22, 23, 24, 25, 26, 27, 28, 29, 30, 31, 32, 33, 34, 35, 36, 37, 38, 39, 40, 41, 42, 43, 44, 45, 46, 47, 48, 49, 50, 51, 52, 53, 54, 55, 56, 57, 58, 59, 60, 61, 62, 63, 64, 65, 66, 67, 68, 69, 70, 71, 72, 73, 74, 75, 76, 77, 78, 79, 80, 81, 82, 83, 84, 85, 86, 87, 88, 89, 90, 91, 92, 93, 94, 95, 96, 97, 98, 99], \"y\": [17.7061767578125, 10.016121864318848, 8.800432205200195, 3.718099594116211, 2.329742908477783, 1.1033433675765991, 1.159627914428711, 0.8627325296401978, 0.580398440361023, 0.6018229126930237, 0.5122735500335693, 0.43704286217689514, 0.41188955307006836, 0.2760729193687439, 0.38733425736427307, 0.393149733543396, 0.4998932480812073, 0.4875829815864563, 0.38744550943374634, 0.27452465891838074, 0.32463741302490234, 0.4465484619140625, 0.357949435710907, 0.3748215138912201, 0.4102489948272705, 0.380035400390625, 0.3438263535499573, 0.29479360580444336, 0.41333532333374023, 0.26105737686157227, 0.36346855759620667, 0.25058045983314514, 0.2482369840145111, 0.2884308397769928, 0.436087042093277, 0.27227041125297546, 0.3003078103065491, 0.36238542199134827, 0.31799930334091187, 0.34502774477005005, 0.4394753575325012, 0.49601036310195923, 0.341198205947876, 0.2605881094932556, 0.5043319463729858, 0.42174798250198364, 0.506104052066803, 0.33440151810646057, 0.4844442903995514, 0.2179754078388214, 0.20606639981269836, 0.4328297972679138, 0.3467317521572113, 0.44161257147789, 0.3729775846004486, 0.3566170334815979, 0.4336170256137848, 0.26768216490745544, 0.3469361662864685, 0.46643123030662537, 0.38606101274490356, 0.33755454421043396, 0.3218843340873718, 0.21345695853233337, 0.4813200533390045, 0.27532947063446045, 0.3117009997367859, 0.410787433385849, 0.5301390886306763, 0.31316113471984863, 0.330402135848999, 0.3630821704864502, 0.3314994275569916, 0.33011022210121155, 0.3190138638019562, 0.2833743989467621, 0.38590699434280396, 0.36482352018356323, 0.29731836915016174, 0.36581382155418396, 0.44378143548965454, 0.3212253451347351, 0.4050382673740387, 0.394936740398407, 0.33641231060028076, 0.349516361951828, 0.42220956087112427, 0.4656956195831299, 0.35752031207084656, 0.34247252345085144, 0.210713192820549, 0.3731532096862793, 0.32576578855514526, 0.286714106798172, 0.40999937057495117, 0.3147844672203064, 0.36836835741996765, 0.3216885030269623, 0.4024462103843689, 0.5078858137130737]}],\n",
       "                        {\"template\": {\"data\": {\"bar\": [{\"error_x\": {\"color\": \"#2a3f5f\"}, \"error_y\": {\"color\": \"#2a3f5f\"}, \"marker\": {\"line\": {\"color\": \"#E5ECF6\", \"width\": 0.5}}, \"type\": \"bar\"}], \"barpolar\": [{\"marker\": {\"line\": {\"color\": \"#E5ECF6\", \"width\": 0.5}}, \"type\": \"barpolar\"}], \"carpet\": [{\"aaxis\": {\"endlinecolor\": \"#2a3f5f\", \"gridcolor\": \"white\", \"linecolor\": \"white\", \"minorgridcolor\": \"white\", \"startlinecolor\": \"#2a3f5f\"}, \"baxis\": {\"endlinecolor\": \"#2a3f5f\", \"gridcolor\": \"white\", \"linecolor\": \"white\", \"minorgridcolor\": \"white\", \"startlinecolor\": \"#2a3f5f\"}, \"type\": \"carpet\"}], \"choropleth\": [{\"colorbar\": {\"outlinewidth\": 0, \"ticks\": \"\"}, \"type\": \"choropleth\"}], \"contour\": [{\"colorbar\": {\"outlinewidth\": 0, \"ticks\": \"\"}, \"colorscale\": [[0.0, \"#0d0887\"], [0.1111111111111111, \"#46039f\"], [0.2222222222222222, \"#7201a8\"], [0.3333333333333333, \"#9c179e\"], [0.4444444444444444, \"#bd3786\"], [0.5555555555555556, \"#d8576b\"], [0.6666666666666666, \"#ed7953\"], [0.7777777777777778, \"#fb9f3a\"], [0.8888888888888888, \"#fdca26\"], [1.0, \"#f0f921\"]], \"type\": \"contour\"}], \"contourcarpet\": [{\"colorbar\": {\"outlinewidth\": 0, \"ticks\": \"\"}, \"type\": \"contourcarpet\"}], \"heatmap\": [{\"colorbar\": {\"outlinewidth\": 0, \"ticks\": \"\"}, \"colorscale\": [[0.0, \"#0d0887\"], [0.1111111111111111, \"#46039f\"], [0.2222222222222222, \"#7201a8\"], [0.3333333333333333, \"#9c179e\"], [0.4444444444444444, \"#bd3786\"], [0.5555555555555556, \"#d8576b\"], [0.6666666666666666, \"#ed7953\"], [0.7777777777777778, \"#fb9f3a\"], [0.8888888888888888, \"#fdca26\"], [1.0, \"#f0f921\"]], \"type\": \"heatmap\"}], \"heatmapgl\": [{\"colorbar\": {\"outlinewidth\": 0, \"ticks\": \"\"}, \"colorscale\": [[0.0, \"#0d0887\"], [0.1111111111111111, \"#46039f\"], [0.2222222222222222, \"#7201a8\"], [0.3333333333333333, \"#9c179e\"], [0.4444444444444444, \"#bd3786\"], [0.5555555555555556, \"#d8576b\"], [0.6666666666666666, \"#ed7953\"], [0.7777777777777778, \"#fb9f3a\"], [0.8888888888888888, \"#fdca26\"], [1.0, \"#f0f921\"]], \"type\": \"heatmapgl\"}], \"histogram\": [{\"marker\": {\"colorbar\": {\"outlinewidth\": 0, \"ticks\": \"\"}}, \"type\": \"histogram\"}], \"histogram2d\": [{\"colorbar\": {\"outlinewidth\": 0, \"ticks\": \"\"}, \"colorscale\": [[0.0, \"#0d0887\"], [0.1111111111111111, \"#46039f\"], [0.2222222222222222, \"#7201a8\"], [0.3333333333333333, \"#9c179e\"], [0.4444444444444444, \"#bd3786\"], [0.5555555555555556, \"#d8576b\"], [0.6666666666666666, \"#ed7953\"], [0.7777777777777778, \"#fb9f3a\"], [0.8888888888888888, \"#fdca26\"], [1.0, \"#f0f921\"]], \"type\": \"histogram2d\"}], \"histogram2dcontour\": [{\"colorbar\": {\"outlinewidth\": 0, \"ticks\": \"\"}, \"colorscale\": [[0.0, \"#0d0887\"], [0.1111111111111111, \"#46039f\"], [0.2222222222222222, \"#7201a8\"], [0.3333333333333333, \"#9c179e\"], [0.4444444444444444, \"#bd3786\"], [0.5555555555555556, \"#d8576b\"], [0.6666666666666666, \"#ed7953\"], [0.7777777777777778, \"#fb9f3a\"], [0.8888888888888888, \"#fdca26\"], [1.0, \"#f0f921\"]], \"type\": \"histogram2dcontour\"}], \"mesh3d\": [{\"colorbar\": {\"outlinewidth\": 0, \"ticks\": \"\"}, \"type\": \"mesh3d\"}], \"parcoords\": [{\"line\": {\"colorbar\": {\"outlinewidth\": 0, \"ticks\": \"\"}}, \"type\": \"parcoords\"}], \"scatter\": [{\"marker\": {\"colorbar\": {\"outlinewidth\": 0, \"ticks\": \"\"}}, \"type\": \"scatter\"}], \"scatter3d\": [{\"line\": {\"colorbar\": {\"outlinewidth\": 0, \"ticks\": \"\"}}, \"marker\": {\"colorbar\": {\"outlinewidth\": 0, \"ticks\": \"\"}}, \"type\": \"scatter3d\"}], \"scattercarpet\": [{\"marker\": {\"colorbar\": {\"outlinewidth\": 0, \"ticks\": \"\"}}, \"type\": \"scattercarpet\"}], \"scattergeo\": [{\"marker\": {\"colorbar\": {\"outlinewidth\": 0, \"ticks\": \"\"}}, \"type\": \"scattergeo\"}], \"scattergl\": [{\"marker\": {\"colorbar\": {\"outlinewidth\": 0, \"ticks\": \"\"}}, \"type\": \"scattergl\"}], \"scattermapbox\": [{\"marker\": {\"colorbar\": {\"outlinewidth\": 0, \"ticks\": \"\"}}, \"type\": \"scattermapbox\"}], \"scatterpolar\": [{\"marker\": {\"colorbar\": {\"outlinewidth\": 0, \"ticks\": \"\"}}, \"type\": \"scatterpolar\"}], \"scatterpolargl\": [{\"marker\": {\"colorbar\": {\"outlinewidth\": 0, \"ticks\": \"\"}}, \"type\": \"scatterpolargl\"}], \"scatterternary\": [{\"marker\": {\"colorbar\": {\"outlinewidth\": 0, \"ticks\": \"\"}}, \"type\": \"scatterternary\"}], \"surface\": [{\"colorbar\": {\"outlinewidth\": 0, \"ticks\": \"\"}, \"colorscale\": [[0.0, \"#0d0887\"], [0.1111111111111111, \"#46039f\"], [0.2222222222222222, \"#7201a8\"], [0.3333333333333333, \"#9c179e\"], [0.4444444444444444, \"#bd3786\"], [0.5555555555555556, \"#d8576b\"], [0.6666666666666666, \"#ed7953\"], [0.7777777777777778, \"#fb9f3a\"], [0.8888888888888888, \"#fdca26\"], [1.0, \"#f0f921\"]], \"type\": \"surface\"}], \"table\": [{\"cells\": {\"fill\": {\"color\": \"#EBF0F8\"}, \"line\": {\"color\": \"white\"}}, \"header\": {\"fill\": {\"color\": \"#C8D4E3\"}, \"line\": {\"color\": \"white\"}}, \"type\": \"table\"}]}, \"layout\": {\"annotationdefaults\": {\"arrowcolor\": \"#2a3f5f\", \"arrowhead\": 0, \"arrowwidth\": 1}, \"colorscale\": {\"diverging\": [[0, \"#8e0152\"], [0.1, \"#c51b7d\"], [0.2, \"#de77ae\"], [0.3, \"#f1b6da\"], [0.4, \"#fde0ef\"], [0.5, \"#f7f7f7\"], [0.6, \"#e6f5d0\"], [0.7, \"#b8e186\"], [0.8, \"#7fbc41\"], [0.9, \"#4d9221\"], [1, \"#276419\"]], \"sequential\": [[0.0, \"#0d0887\"], [0.1111111111111111, \"#46039f\"], [0.2222222222222222, \"#7201a8\"], [0.3333333333333333, \"#9c179e\"], [0.4444444444444444, \"#bd3786\"], [0.5555555555555556, \"#d8576b\"], [0.6666666666666666, \"#ed7953\"], [0.7777777777777778, \"#fb9f3a\"], [0.8888888888888888, \"#fdca26\"], [1.0, \"#f0f921\"]], \"sequentialminus\": [[0.0, \"#0d0887\"], [0.1111111111111111, \"#46039f\"], [0.2222222222222222, \"#7201a8\"], [0.3333333333333333, \"#9c179e\"], [0.4444444444444444, \"#bd3786\"], [0.5555555555555556, \"#d8576b\"], [0.6666666666666666, \"#ed7953\"], [0.7777777777777778, \"#fb9f3a\"], [0.8888888888888888, \"#fdca26\"], [1.0, \"#f0f921\"]]}, \"colorway\": [\"#636efa\", \"#EF553B\", \"#00cc96\", \"#ab63fa\", \"#FFA15A\", \"#19d3f3\", \"#FF6692\", \"#B6E880\", \"#FF97FF\", \"#FECB52\"], \"font\": {\"color\": \"#2a3f5f\"}, \"geo\": {\"bgcolor\": \"white\", \"lakecolor\": \"white\", \"landcolor\": \"#E5ECF6\", \"showlakes\": true, \"showland\": true, \"subunitcolor\": \"white\"}, \"hoverlabel\": {\"align\": \"left\"}, \"hovermode\": \"closest\", \"mapbox\": {\"style\": \"light\"}, \"paper_bgcolor\": \"white\", \"plot_bgcolor\": \"#E5ECF6\", \"polar\": {\"angularaxis\": {\"gridcolor\": \"white\", \"linecolor\": \"white\", \"ticks\": \"\"}, \"bgcolor\": \"#E5ECF6\", \"radialaxis\": {\"gridcolor\": \"white\", \"linecolor\": \"white\", \"ticks\": \"\"}}, \"scene\": {\"xaxis\": {\"backgroundcolor\": \"#E5ECF6\", \"gridcolor\": \"white\", \"gridwidth\": 2, \"linecolor\": \"white\", \"showbackground\": true, \"ticks\": \"\", \"zerolinecolor\": \"white\"}, \"yaxis\": {\"backgroundcolor\": \"#E5ECF6\", \"gridcolor\": \"white\", \"gridwidth\": 2, \"linecolor\": \"white\", \"showbackground\": true, \"ticks\": \"\", \"zerolinecolor\": \"white\"}, \"zaxis\": {\"backgroundcolor\": \"#E5ECF6\", \"gridcolor\": \"white\", \"gridwidth\": 2, \"linecolor\": \"white\", \"showbackground\": true, \"ticks\": \"\", \"zerolinecolor\": \"white\"}}, \"shapedefaults\": {\"line\": {\"color\": \"#2a3f5f\"}}, \"ternary\": {\"aaxis\": {\"gridcolor\": \"white\", \"linecolor\": \"white\", \"ticks\": \"\"}, \"baxis\": {\"gridcolor\": \"white\", \"linecolor\": \"white\", \"ticks\": \"\"}, \"bgcolor\": \"#E5ECF6\", \"caxis\": {\"gridcolor\": \"white\", \"linecolor\": \"white\", \"ticks\": \"\"}}, \"title\": {\"x\": 0.05}, \"xaxis\": {\"automargin\": true, \"gridcolor\": \"white\", \"linecolor\": \"white\", \"ticks\": \"\", \"zerolinecolor\": \"white\", \"zerolinewidth\": 2}, \"yaxis\": {\"automargin\": true, \"gridcolor\": \"white\", \"linecolor\": \"white\", \"ticks\": \"\", \"zerolinecolor\": \"white\", \"zerolinewidth\": 2}}}, \"title\": {\"text\": \"Eqn 12 Term 1 Loss Per Batch\"}, \"xaxis\": {\"title\": {\"text\": \"Batch (size=20)\"}}, \"yaxis\": {\"title\": {\"text\": \"Loss\"}}},\n",
       "                        {\"responsive\": true}\n",
       "                    ).then(function(){\n",
       "                            \n",
       "var gd = document.getElementById('09664238-a0ff-4363-96e7-52b230b8e3a3');\n",
       "var x = new MutationObserver(function (mutations, observer) {{\n",
       "        var display = window.getComputedStyle(gd).display;\n",
       "        if (!display || display === 'none') {{\n",
       "            console.log([gd, 'removed!']);\n",
       "            Plotly.purge(gd);\n",
       "            observer.disconnect();\n",
       "        }}\n",
       "}});\n",
       "\n",
       "// Listen for the removal of the full notebook cells\n",
       "var notebookContainer = gd.closest('#notebook-container');\n",
       "if (notebookContainer) {{\n",
       "    x.observe(notebookContainer, {childList: true});\n",
       "}}\n",
       "\n",
       "// Listen for the clearing of the current output cell\n",
       "var outputEl = gd.closest('.output');\n",
       "if (outputEl) {{\n",
       "    x.observe(outputEl, {childList: true});\n",
       "}}\n",
       "\n",
       "                        })\n",
       "                };\n",
       "                });\n",
       "            </script>\n",
       "        </div>"
      ]
     },
     "metadata": {},
     "output_type": "display_data"
    }
   ],
   "source": [
    "# plot training loss\n",
    "\n",
    "plot_data = [\n",
    "    go.Scatter(\n",
    "        x=np.arange(len(losses)),\n",
    "        y=losses,\n",
    "        mode='lines')\n",
    "]\n",
    "\n",
    "layout = dict(\n",
    "    title='Eqn 12 Term 1 Loss Per Batch',\n",
    "    yaxis=dict(title='Loss'),\n",
    "    xaxis=dict(title='Batch (size={})'.format(batch_size))\n",
    ")\n",
    "fig = go.Figure(data=plot_data, layout=layout)\n",
    "fig.show()"
   ]
  },
  {
   "cell_type": "markdown",
   "metadata": {},
   "source": [
    "## Adding Out-of-distribution Samples"
   ]
  },
  {
   "cell_type": "code",
   "execution_count": 216,
   "metadata": {},
   "outputs": [],
   "source": [
    "# add out of distribution points to our dataset\n",
    "num_points = 498\n",
    "num_additional_points = 100\n",
    "num_points += num_additional_points\n",
    "out_of_dist_samples = torch.tensor(\n",
    "    np.random.normal(-50, 10, size=(num_additional_points, 2))).to(torch.float32)\n",
    "out_of_dist_concentrations = torch.tensor(\n",
    "    np.ones(shape=(num_additional_points, 3))).to(torch.float32)\n",
    "samples1 = torch.cat((samples, out_of_dist_samples))\n",
    "soft_labels1 = torch.cat((soft_labels, out_of_dist_concentrations/alpha_0))\n",
    "soft_concentrations1 = torch.cat((soft_concentrations, out_of_dist_concentrations))"
   ]
  },
  {
   "cell_type": "code",
   "execution_count": 218,
   "metadata": {},
   "outputs": [
    {
     "data": {
      "text/plain": [
       "torch.Size([598, 2])"
      ]
     },
     "execution_count": 218,
     "metadata": {},
     "output_type": "execute_result"
    }
   ],
   "source": [
    "samples1.shape"
   ]
  },
  {
   "cell_type": "code",
   "execution_count": 219,
   "metadata": {},
   "outputs": [
    {
     "data": {
      "text/plain": [
       "torch.Size([598, 3])"
      ]
     },
     "execution_count": 219,
     "metadata": {},
     "output_type": "execute_result"
    }
   ],
   "source": [
    "soft_labels1.shape"
   ]
  },
  {
   "cell_type": "code",
   "execution_count": 235,
   "metadata": {},
   "outputs": [
    {
     "data": {
      "text/plain": [
       "tensor([[2.9400, 0.0300, 0.0300],\n",
       "        [0.0300, 0.0300, 2.9400],\n",
       "        [2.9400, 0.0300, 0.0300],\n",
       "        ...,\n",
       "        [1.0000, 1.0000, 1.0000],\n",
       "        [1.0000, 1.0000, 1.0000],\n",
       "        [1.0000, 1.0000, 1.0000]])"
      ]
     },
     "execution_count": 235,
     "metadata": {},
     "output_type": "execute_result"
    }
   ],
   "source": [
    "soft_concentrations1"
   ]
  },
  {
   "cell_type": "code",
   "execution_count": 220,
   "metadata": {},
   "outputs": [
    {
     "data": {
      "text/plain": [
       "torch.Size([598, 3])"
      ]
     },
     "execution_count": 220,
     "metadata": {},
     "output_type": "execute_result"
    }
   ],
   "source": [
    "soft_concentrations1.shape"
   ]
  },
  {
   "cell_type": "code",
   "execution_count": 222,
   "metadata": {},
   "outputs": [
    {
     "data": {
      "text/plain": [
       "598"
      ]
     },
     "execution_count": 222,
     "metadata": {},
     "output_type": "execute_result"
    }
   ],
   "source": [
    "num_points"
   ]
  },
  {
   "cell_type": "code",
   "execution_count": 221,
   "metadata": {},
   "outputs": [
    {
     "data": {
      "image/png": "[encoded data removed]",
      "text/plain": [
       "<Figure size 432x288 with 1 Axes>"
      ]
     },
     "metadata": {
      "needs_background": "light"
     },
     "output_type": "display_data"
    }
   ],
   "source": [
    "plt.plot(samples1[:,0], samples1[:,1], 'ro')\n",
    "plt.show()"
   ]
  },
  {
   "cell_type": "code",
   "execution_count": 223,
   "metadata": {},
   "outputs": [
    {
     "name": "stdout",
     "output_type": "stream",
     "text": [
      "Step: 0, Loss: 22.141584396362305\n",
      "Step: 1, Loss: 22.85553550720215\n",
      "Step: 2, Loss: 17.167139053344727\n",
      "Step: 3, Loss: 14.605195999145508\n",
      "Step: 4, Loss: 12.016942977905273\n",
      "Step: 5, Loss: 13.897970199584961\n",
      "Step: 6, Loss: 12.542451858520508\n",
      "Step: 7, Loss: 9.743099212646484\n",
      "Step: 8, Loss: 7.2958221435546875\n",
      "Step: 9, Loss: 4.891394138336182\n",
      "Step: 10, Loss: 4.642034530639648\n",
      "Step: 11, Loss: 9.666078567504883\n",
      "Step: 12, Loss: 4.617108345031738\n",
      "Step: 13, Loss: 3.294553756713867\n",
      "Step: 14, Loss: 5.348977088928223\n",
      "Step: 15, Loss: 8.244547843933105\n",
      "Step: 16, Loss: 3.0321834087371826\n",
      "Step: 17, Loss: 5.606407165527344\n",
      "Step: 18, Loss: 1.9230804443359375\n",
      "Step: 19, Loss: 8.618525505065918\n",
      "Step: 20, Loss: 5.646042823791504\n",
      "Step: 21, Loss: 4.664776802062988\n",
      "Step: 22, Loss: 6.000368118286133\n",
      "Step: 23, Loss: 4.801662445068359\n",
      "Step: 24, Loss: 5.095302581787109\n",
      "Step: 25, Loss: 4.609429836273193\n",
      "Step: 26, Loss: 3.6568093299865723\n",
      "Step: 27, Loss: 4.873556613922119\n",
      "Step: 28, Loss: 3.906337022781372\n",
      "Step: 29, Loss: 4.046477317810059\n",
      "Step: 30, Loss: 5.949771881103516\n",
      "Step: 31, Loss: 2.6710143089294434\n",
      "Step: 32, Loss: 11.70608901977539\n",
      "Step: 33, Loss: 4.828553199768066\n",
      "Step: 34, Loss: 3.539353132247925\n",
      "Step: 35, Loss: 5.464456558227539\n",
      "Step: 36, Loss: 2.551024913787842\n",
      "Step: 37, Loss: 4.890915870666504\n",
      "Step: 38, Loss: 4.075597763061523\n",
      "Step: 39, Loss: 6.756389617919922\n",
      "Step: 40, Loss: 4.300518035888672\n",
      "Step: 41, Loss: 4.514504432678223\n",
      "Step: 42, Loss: 5.038346290588379\n",
      "Step: 43, Loss: 6.193121910095215\n",
      "Step: 44, Loss: 5.895458221435547\n",
      "Step: 45, Loss: 4.671474933624268\n",
      "Step: 46, Loss: 5.502256870269775\n",
      "Step: 47, Loss: 6.812859535217285\n",
      "Step: 48, Loss: 3.1500794887542725\n",
      "Step: 49, Loss: 4.099931240081787\n",
      "Step: 50, Loss: 5.129433631896973\n",
      "Step: 51, Loss: 6.141329765319824\n",
      "Step: 52, Loss: 5.009405612945557\n",
      "Step: 53, Loss: 6.515127658843994\n",
      "Step: 54, Loss: 5.911533355712891\n",
      "Step: 55, Loss: 4.716185569763184\n",
      "Step: 56, Loss: 3.181605815887451\n",
      "Step: 57, Loss: 3.572016954421997\n",
      "Step: 58, Loss: 2.253772258758545\n",
      "Step: 59, Loss: 3.7788093090057373\n",
      "Step: 60, Loss: 9.535024642944336\n",
      "Step: 61, Loss: 4.10252571105957\n",
      "Step: 62, Loss: 5.246581554412842\n",
      "Step: 63, Loss: 6.1901960372924805\n",
      "Step: 64, Loss: 3.87760853767395\n",
      "Step: 65, Loss: 2.692998170852661\n",
      "Step: 66, Loss: 7.127135276794434\n",
      "Step: 67, Loss: 6.007114410400391\n",
      "Step: 68, Loss: 3.62176251411438\n",
      "Step: 69, Loss: 4.998857021331787\n",
      "Step: 70, Loss: 3.2562499046325684\n",
      "Step: 71, Loss: 4.755754470825195\n",
      "Step: 72, Loss: 4.672452926635742\n",
      "Step: 73, Loss: 5.068520545959473\n",
      "Step: 74, Loss: 4.282760143280029\n",
      "Step: 75, Loss: 7.323106288909912\n",
      "Step: 76, Loss: 5.6857709884643555\n",
      "Step: 77, Loss: 4.345636367797852\n",
      "Step: 78, Loss: 6.955895900726318\n",
      "Step: 79, Loss: 5.213946342468262\n",
      "Step: 80, Loss: 4.452018737792969\n",
      "Step: 81, Loss: 6.811324119567871\n",
      "Step: 82, Loss: 5.703765392303467\n",
      "Step: 83, Loss: 5.875460624694824\n",
      "Step: 84, Loss: 5.87363338470459\n",
      "Step: 85, Loss: 4.326206207275391\n",
      "Step: 86, Loss: 4.74201774597168\n",
      "Step: 87, Loss: 5.058773994445801\n",
      "Step: 88, Loss: 4.17440128326416\n",
      "Step: 89, Loss: 3.062347888946533\n",
      "Step: 90, Loss: 5.173426151275635\n",
      "Step: 91, Loss: 5.044462203979492\n",
      "Step: 92, Loss: 3.6658310890197754\n",
      "Step: 93, Loss: 2.460566997528076\n",
      "Step: 94, Loss: 3.8577475547790527\n",
      "Step: 95, Loss: 3.3675155639648438\n",
      "Step: 96, Loss: 5.552671432495117\n",
      "Step: 97, Loss: 5.473480224609375\n",
      "Step: 98, Loss: 3.735927104949951\n",
      "Step: 99, Loss: 5.479611396789551\n"
     ]
    }
   ],
   "source": [
    "# create new network\n",
    "pn_forward_net_out = Network(alpha_0=alpha_0)\n",
    "optimizer = optim.SGD(pn_forward_net_out.parameters(), lr=0.01)\n",
    "\n",
    "num_training_steps = 100\n",
    "\n",
    "\n",
    "# train!\n",
    "losses, grad_norms = [], []\n",
    "for step in range(num_training_steps):\n",
    "    optimizer.zero_grad()   # zero the gradient buffers\n",
    "    batch_idx = np.random.choice(\n",
    "        np.arange(num_points),\n",
    "        size=batch_size,\n",
    "        replace=False)\n",
    "    batch_samples = samples1[batch_idx]\n",
    "    batch_concentrations = soft_concentrations1[batch_idx]\n",
    "    pred_labels = pn_forward_net_out.forward(batch_samples)\n",
    "    loss = eqn_twelve_forward(\n",
    "        model_softmax_outputs=pred_labels,\n",
    "        target_concentrations=batch_concentrations)\n",
    "    print('Step: {}, Loss: {}'.format(step, loss.item()))\n",
    "    losses.append(loss.item())\n",
    "    loss.backward()\n",
    "    optimizer.step()"
   ]
  },
  {
   "cell_type": "code",
   "execution_count": 224,
   "metadata": {},
   "outputs": [
    {
     "data": {
      "application/vnd.plotly.v1+json": {
       "config": {
        "plotlyServerURL": "https://plot.ly"
       },
       "data": [
        {
         "mode": "lines",
         "type": "scatter",
         "x": [
          0,
          1,
          2,
          3,
          4,
          5,
          6,
          7,
          8,
          9,
          10,
          11,
          12,
          13,
          14,
          15,
          16,
          17,
          18,
          19,
          20,
          21,
          22,
          23,
          24,
          25,
          26,
          27,
          28,
          29,
          30,
          31,
          32,
          33,
          34,
          35,
          36,
          37,
          38,
          39,
          40,
          41,
          42,
          43,
          44,
          45,
          46,
          47,
          48,
          49,
          50,
          51,
          52,
          53,
          54,
          55,
          56,
          57,
          58,
          59,
          60,
          61,
          62,
          63,
          64,
          65,
          66,
          67,
          68,
          69,
          70,
          71,
          72,
          73,
          74,
          75,
          76,
          77,
          78,
          79,
          80,
          81,
          82,
          83,
          84,
          85,
          86,
          87,
          88,
          89,
          90,
          91,
          92,
          93,
          94,
          95,
          96,
          97,
          98,
          99
         ],
         "y": [
          22.141584396362305,
          22.85553550720215,
          17.167139053344727,
          14.605195999145508,
          12.016942977905273,
          13.897970199584961,
          12.542451858520508,
          9.743099212646484,
          7.2958221435546875,
          4.891394138336182,
          4.642034530639648,
          9.666078567504883,
          4.617108345031738,
          3.294553756713867,
          5.348977088928223,
          8.244547843933105,
          3.0321834087371826,
          5.606407165527344,
          1.9230804443359375,
          8.618525505065918,
          5.646042823791504,
          4.664776802062988,
          6.000368118286133,
          4.801662445068359,
          5.095302581787109,
          4.609429836273193,
          3.6568093299865723,
          4.873556613922119,
          3.906337022781372,
          4.046477317810059,
          5.949771881103516,
          2.6710143089294434,
          11.70608901977539,
          4.828553199768066,
          3.539353132247925,
          5.464456558227539,
          2.551024913787842,
          4.890915870666504,
          4.075597763061523,
          6.756389617919922,
          4.300518035888672,
          4.514504432678223,
          5.038346290588379,
          6.193121910095215,
          5.895458221435547,
          4.671474933624268,
          5.502256870269775,
          6.812859535217285,
          3.1500794887542725,
          4.099931240081787,
          5.129433631896973,
          6.141329765319824,
          5.009405612945557,
          6.515127658843994,
          5.911533355712891,
          4.716185569763184,
          3.181605815887451,
          3.572016954421997,
          2.253772258758545,
          3.7788093090057373,
          9.535024642944336,
          4.10252571105957,
          5.246581554412842,
          6.1901960372924805,
          3.87760853767395,
          2.692998170852661,
          7.127135276794434,
          6.007114410400391,
          3.62176251411438,
          4.998857021331787,
          3.2562499046325684,
          4.755754470825195,
          4.672452926635742,
          5.068520545959473,
          4.282760143280029,
          7.323106288909912,
          5.6857709884643555,
          4.345636367797852,
          6.955895900726318,
          5.213946342468262,
          4.452018737792969,
          6.811324119567871,
          5.703765392303467,
          5.875460624694824,
          5.87363338470459,
          4.326206207275391,
          4.74201774597168,
          5.058773994445801,
          4.17440128326416,
          3.062347888946533,
          5.173426151275635,
          5.044462203979492,
          3.6658310890197754,
          2.460566997528076,
          3.8577475547790527,
          3.3675155639648438,
          5.552671432495117,
          5.473480224609375,
          3.735927104949951,
          5.479611396789551
         ]
        }
       ],
       "layout": {
        "template": {
         "data": {
          "bar": [
           {
            "error_x": {
             "color": "#2a3f5f"
            },
            "error_y": {
             "color": "#2a3f5f"
            },
            "marker": {
             "line": {
              "color": "#E5ECF6",
              "width": 0.5
             }
            },
            "type": "bar"
           }
          ],
          "barpolar": [
           {
            "marker": {
             "line": {
              "color": "#E5ECF6",
              "width": 0.5
             }
            },
            "type": "barpolar"
           }
          ],
          "carpet": [
           {
            "aaxis": {
             "endlinecolor": "#2a3f5f",
             "gridcolor": "white",
             "linecolor": "white",
             "minorgridcolor": "white",
             "startlinecolor": "#2a3f5f"
            },
            "baxis": {
             "endlinecolor": "#2a3f5f",
             "gridcolor": "white",
             "linecolor": "white",
             "minorgridcolor": "white",
             "startlinecolor": "#2a3f5f"
            },
            "type": "carpet"
           }
          ],
          "choropleth": [
           {
            "colorbar": {
             "outlinewidth": 0,
             "ticks": ""
            },
            "type": "choropleth"
           }
          ],
          "contour": [
           {
            "colorbar": {
             "outlinewidth": 0,
             "ticks": ""
            },
            "colorscale": [
             [
              0,
              "#0d0887"
             ],
             [
              0.1111111111111111,
              "#46039f"
             ],
             [
              0.2222222222222222,
              "#7201a8"
             ],
             [
              0.3333333333333333,
              "#9c179e"
             ],
             [
              0.4444444444444444,
              "#bd3786"
             ],
             [
              0.5555555555555556,
              "#d8576b"
             ],
             [
              0.6666666666666666,
              "#ed7953"
             ],
             [
              0.7777777777777778,
              "#fb9f3a"
             ],
             [
              0.8888888888888888,
              "#fdca26"
             ],
             [
              1,
              "#f0f921"
             ]
            ],
            "type": "contour"
           }
          ],
          "contourcarpet": [
           {
            "colorbar": {
             "outlinewidth": 0,
             "ticks": ""
            },
            "type": "contourcarpet"
           }
          ],
          "heatmap": [
           {
            "colorbar": {
             "outlinewidth": 0,
             "ticks": ""
            },
            "colorscale": [
             [
              0,
              "#0d0887"
             ],
             [
              0.1111111111111111,
              "#46039f"
             ],
             [
              0.2222222222222222,
              "#7201a8"
             ],
             [
              0.3333333333333333,
              "#9c179e"
             ],
             [
              0.4444444444444444,
              "#bd3786"
             ],
             [
              0.5555555555555556,
              "#d8576b"
             ],
             [
              0.6666666666666666,
              "#ed7953"
             ],
             [
              0.7777777777777778,
              "#fb9f3a"
             ],
             [
              0.8888888888888888,
              "#fdca26"
             ],
             [
              1,
              "#f0f921"
             ]
            ],
            "type": "heatmap"
           }
          ],
          "heatmapgl": [
           {
            "colorbar": {
             "outlinewidth": 0,
             "ticks": ""
            },
            "colorscale": [
             [
              0,
              "#0d0887"
             ],
             [
              0.1111111111111111,
              "#46039f"
             ],
             [
              0.2222222222222222,
              "#7201a8"
             ],
             [
              0.3333333333333333,
              "#9c179e"
             ],
             [
              0.4444444444444444,
              "#bd3786"
             ],
             [
              0.5555555555555556,
              "#d8576b"
             ],
             [
              0.6666666666666666,
              "#ed7953"
             ],
             [
              0.7777777777777778,
              "#fb9f3a"
             ],
             [
              0.8888888888888888,
              "#fdca26"
             ],
             [
              1,
              "#f0f921"
             ]
            ],
            "type": "heatmapgl"
           }
          ],
          "histogram": [
           {
            "marker": {
             "colorbar": {
              "outlinewidth": 0,
              "ticks": ""
             }
            },
            "type": "histogram"
           }
          ],
          "histogram2d": [
           {
            "colorbar": {
             "outlinewidth": 0,
             "ticks": ""
            },
            "colorscale": [
             [
              0,
              "#0d0887"
             ],
             [
              0.1111111111111111,
              "#46039f"
             ],
             [
              0.2222222222222222,
              "#7201a8"
             ],
             [
              0.3333333333333333,
              "#9c179e"
             ],
             [
              0.4444444444444444,
              "#bd3786"
             ],
             [
              0.5555555555555556,
              "#d8576b"
             ],
             [
              0.6666666666666666,
              "#ed7953"
             ],
             [
              0.7777777777777778,
              "#fb9f3a"
             ],
             [
              0.8888888888888888,
              "#fdca26"
             ],
             [
              1,
              "#f0f921"
             ]
            ],
            "type": "histogram2d"
           }
          ],
          "histogram2dcontour": [
           {
            "colorbar": {
             "outlinewidth": 0,
             "ticks": ""
            },
            "colorscale": [
             [
              0,
              "#0d0887"
             ],
             [
              0.1111111111111111,
              "#46039f"
             ],
             [
              0.2222222222222222,
              "#7201a8"
             ],
             [
              0.3333333333333333,
              "#9c179e"
             ],
             [
              0.4444444444444444,
              "#bd3786"
             ],
             [
              0.5555555555555556,
              "#d8576b"
             ],
             [
              0.6666666666666666,
              "#ed7953"
             ],
             [
              0.7777777777777778,
              "#fb9f3a"
             ],
             [
              0.8888888888888888,
              "#fdca26"
             ],
             [
              1,
              "#f0f921"
             ]
            ],
            "type": "histogram2dcontour"
           }
          ],
          "mesh3d": [
           {
            "colorbar": {
             "outlinewidth": 0,
             "ticks": ""
            },
            "type": "mesh3d"
           }
          ],
          "parcoords": [
           {
            "line": {
             "colorbar": {
              "outlinewidth": 0,
              "ticks": ""
             }
            },
            "type": "parcoords"
           }
          ],
          "scatter": [
           {
            "marker": {
             "colorbar": {
              "outlinewidth": 0,
              "ticks": ""
             }
            },
            "type": "scatter"
           }
          ],
          "scatter3d": [
           {
            "line": {
             "colorbar": {
              "outlinewidth": 0,
              "ticks": ""
             }
            },
            "marker": {
             "colorbar": {
              "outlinewidth": 0,
              "ticks": ""
             }
            },
            "type": "scatter3d"
           }
          ],
          "scattercarpet": [
           {
            "marker": {
             "colorbar": {
              "outlinewidth": 0,
              "ticks": ""
             }
            },
            "type": "scattercarpet"
           }
          ],
          "scattergeo": [
           {
            "marker": {
             "colorbar": {
              "outlinewidth": 0,
              "ticks": ""
             }
            },
            "type": "scattergeo"
           }
          ],
          "scattergl": [
           {
            "marker": {
             "colorbar": {
              "outlinewidth": 0,
              "ticks": ""
             }
            },
            "type": "scattergl"
           }
          ],
          "scattermapbox": [
           {
            "marker": {
             "colorbar": {
              "outlinewidth": 0,
              "ticks": ""
             }
            },
            "type": "scattermapbox"
           }
          ],
          "scatterpolar": [
           {
            "marker": {
             "colorbar": {
              "outlinewidth": 0,
              "ticks": ""
             }
            },
            "type": "scatterpolar"
           }
          ],
          "scatterpolargl": [
           {
            "marker": {
             "colorbar": {
              "outlinewidth": 0,
              "ticks": ""
             }
            },
            "type": "scatterpolargl"
           }
          ],
          "scatterternary": [
           {
            "marker": {
             "colorbar": {
              "outlinewidth": 0,
              "ticks": ""
             }
            },
            "type": "scatterternary"
           }
          ],
          "surface": [
           {
            "colorbar": {
             "outlinewidth": 0,
             "ticks": ""
            },
            "colorscale": [
             [
              0,
              "#0d0887"
             ],
             [
              0.1111111111111111,
              "#46039f"
             ],
             [
              0.2222222222222222,
              "#7201a8"
             ],
             [
              0.3333333333333333,
              "#9c179e"
             ],
             [
              0.4444444444444444,
              "#bd3786"
             ],
             [
              0.5555555555555556,
              "#d8576b"
             ],
             [
              0.6666666666666666,
              "#ed7953"
             ],
             [
              0.7777777777777778,
              "#fb9f3a"
             ],
             [
              0.8888888888888888,
              "#fdca26"
             ],
             [
              1,
              "#f0f921"
             ]
            ],
            "type": "surface"
           }
          ],
          "table": [
           {
            "cells": {
             "fill": {
              "color": "#EBF0F8"
             },
             "line": {
              "color": "white"
             }
            },
            "header": {
             "fill": {
              "color": "#C8D4E3"
             },
             "line": {
              "color": "white"
             }
            },
            "type": "table"
           }
          ]
         },
         "layout": {
          "annotationdefaults": {
           "arrowcolor": "#2a3f5f",
           "arrowhead": 0,
           "arrowwidth": 1
          },
          "colorscale": {
           "diverging": [
            [
             0,
             "#8e0152"
            ],
            [
             0.1,
             "#c51b7d"
            ],
            [
             0.2,
             "#de77ae"
            ],
            [
             0.3,
             "#f1b6da"
            ],
            [
             0.4,
             "#fde0ef"
            ],
            [
             0.5,
             "#f7f7f7"
            ],
            [
             0.6,
             "#e6f5d0"
            ],
            [
             0.7,
             "#b8e186"
            ],
            [
             0.8,
             "#7fbc41"
            ],
            [
             0.9,
             "#4d9221"
            ],
            [
             1,
             "#276419"
            ]
           ],
           "sequential": [
            [
             0,
             "#0d0887"
            ],
            [
             0.1111111111111111,
             "#46039f"
            ],
            [
             0.2222222222222222,
             "#7201a8"
            ],
            [
             0.3333333333333333,
             "#9c179e"
            ],
            [
             0.4444444444444444,
             "#bd3786"
            ],
            [
             0.5555555555555556,
             "#d8576b"
            ],
            [
             0.6666666666666666,
             "#ed7953"
            ],
            [
             0.7777777777777778,
             "#fb9f3a"
            ],
            [
             0.8888888888888888,
             "#fdca26"
            ],
            [
             1,
             "#f0f921"
            ]
           ],
           "sequentialminus": [
            [
             0,
             "#0d0887"
            ],
            [
             0.1111111111111111,
             "#46039f"
            ],
            [
             0.2222222222222222,
             "#7201a8"
            ],
            [
             0.3333333333333333,
             "#9c179e"
            ],
            [
             0.4444444444444444,
             "#bd3786"
            ],
            [
             0.5555555555555556,
             "#d8576b"
            ],
            [
             0.6666666666666666,
             "#ed7953"
            ],
            [
             0.7777777777777778,
             "#fb9f3a"
            ],
            [
             0.8888888888888888,
             "#fdca26"
            ],
            [
             1,
             "#f0f921"
            ]
           ]
          },
          "colorway": [
           "#636efa",
           "#EF553B",
           "#00cc96",
           "#ab63fa",
           "#FFA15A",
           "#19d3f3",
           "#FF6692",
           "#B6E880",
           "#FF97FF",
           "#FECB52"
          ],
          "font": {
           "color": "#2a3f5f"
          },
          "geo": {
           "bgcolor": "white",
           "lakecolor": "white",
           "landcolor": "#E5ECF6",
           "showlakes": true,
           "showland": true,
           "subunitcolor": "white"
          },
          "hoverlabel": {
           "align": "left"
          },
          "hovermode": "closest",
          "mapbox": {
           "style": "light"
          },
          "paper_bgcolor": "white",
          "plot_bgcolor": "#E5ECF6",
          "polar": {
           "angularaxis": {
            "gridcolor": "white",
            "linecolor": "white",
            "ticks": ""
           },
           "bgcolor": "#E5ECF6",
           "radialaxis": {
            "gridcolor": "white",
            "linecolor": "white",
            "ticks": ""
           }
          },
          "scene": {
           "xaxis": {
            "backgroundcolor": "#E5ECF6",
            "gridcolor": "white",
            "gridwidth": 2,
            "linecolor": "white",
            "showbackground": true,
            "ticks": "",
            "zerolinecolor": "white"
           },
           "yaxis": {
            "backgroundcolor": "#E5ECF6",
            "gridcolor": "white",
            "gridwidth": 2,
            "linecolor": "white",
            "showbackground": true,
            "ticks": "",
            "zerolinecolor": "white"
           },
           "zaxis": {
            "backgroundcolor": "#E5ECF6",
            "gridcolor": "white",
            "gridwidth": 2,
            "linecolor": "white",
            "showbackground": true,
            "ticks": "",
            "zerolinecolor": "white"
           }
          },
          "shapedefaults": {
           "line": {
            "color": "#2a3f5f"
           }
          },
          "ternary": {
           "aaxis": {
            "gridcolor": "white",
            "linecolor": "white",
            "ticks": ""
           },
           "baxis": {
            "gridcolor": "white",
            "linecolor": "white",
            "ticks": ""
           },
           "bgcolor": "#E5ECF6",
           "caxis": {
            "gridcolor": "white",
            "linecolor": "white",
            "ticks": ""
           }
          },
          "title": {
           "x": 0.05
          },
          "xaxis": {
           "automargin": true,
           "gridcolor": "white",
           "linecolor": "white",
           "ticks": "",
           "zerolinecolor": "white",
           "zerolinewidth": 2
          },
          "yaxis": {
           "automargin": true,
           "gridcolor": "white",
           "linecolor": "white",
           "ticks": "",
           "zerolinecolor": "white",
           "zerolinewidth": 2
          }
         }
        },
        "title": {
         "text": "Eqn 12 Term 1 Loss Per Batch"
        },
        "xaxis": {
         "title": {
          "text": "Batch (size=20)"
         }
        },
        "yaxis": {
         "title": {
          "text": "Loss"
         }
        }
       }
      },
      "text/html": [
       "<div>\n",
       "        \n",
       "        \n",
       "            <div id=\"d1f280bd-e6a5-4597-8f33-e40915c1ccec\" class=\"plotly-graph-div\" style=\"height:525px; width:100%;\"></div>\n",
       "            <script type=\"text/javascript\">\n",
       "                require([\"plotly\"], function(Plotly) {\n",
       "                    window.PLOTLYENV=window.PLOTLYENV || {};\n",
       "                    \n",
       "                if (document.getElementById(\"d1f280bd-e6a5-4597-8f33-e40915c1ccec\")) {\n",
       "                    Plotly.newPlot(\n",
       "                        'd1f280bd-e6a5-4597-8f33-e40915c1ccec',\n",
       "                        [{\"mode\": \"lines\", \"type\": \"scatter\", \"x\": [0, 1, 2, 3, 4, 5, 6, 7, 8, 9, 10, 11, 12, 13, 14, 15, 16, 17, 18, 19, 20, 21, 22, 23, 24, 25, 26, 27, 28, 29, 30, 31, 32, 33, 34, 35, 36, 37, 38, 39, 40, 41, 42, 43, 44, 45, 46, 47, 48, 49, 50, 51, 52, 53, 54, 55, 56, 57, 58, 59, 60, 61, 62, 63, 64, 65, 66, 67, 68, 69, 70, 71, 72, 73, 74, 75, 76, 77, 78, 79, 80, 81, 82, 83, 84, 85, 86, 87, 88, 89, 90, 91, 92, 93, 94, 95, 96, 97, 98, 99], \"y\": [22.141584396362305, 22.85553550720215, 17.167139053344727, 14.605195999145508, 12.016942977905273, 13.897970199584961, 12.542451858520508, 9.743099212646484, 7.2958221435546875, 4.891394138336182, 4.642034530639648, 9.666078567504883, 4.617108345031738, 3.294553756713867, 5.348977088928223, 8.244547843933105, 3.0321834087371826, 5.606407165527344, 1.9230804443359375, 8.618525505065918, 5.646042823791504, 4.664776802062988, 6.000368118286133, 4.801662445068359, 5.095302581787109, 4.609429836273193, 3.6568093299865723, 4.873556613922119, 3.906337022781372, 4.046477317810059, 5.949771881103516, 2.6710143089294434, 11.70608901977539, 4.828553199768066, 3.539353132247925, 5.464456558227539, 2.551024913787842, 4.890915870666504, 4.075597763061523, 6.756389617919922, 4.300518035888672, 4.514504432678223, 5.038346290588379, 6.193121910095215, 5.895458221435547, 4.671474933624268, 5.502256870269775, 6.812859535217285, 3.1500794887542725, 4.099931240081787, 5.129433631896973, 6.141329765319824, 5.009405612945557, 6.515127658843994, 5.911533355712891, 4.716185569763184, 3.181605815887451, 3.572016954421997, 2.253772258758545, 3.7788093090057373, 9.535024642944336, 4.10252571105957, 5.246581554412842, 6.1901960372924805, 3.87760853767395, 2.692998170852661, 7.127135276794434, 6.007114410400391, 3.62176251411438, 4.998857021331787, 3.2562499046325684, 4.755754470825195, 4.672452926635742, 5.068520545959473, 4.282760143280029, 7.323106288909912, 5.6857709884643555, 4.345636367797852, 6.955895900726318, 5.213946342468262, 4.452018737792969, 6.811324119567871, 5.703765392303467, 5.875460624694824, 5.87363338470459, 4.326206207275391, 4.74201774597168, 5.058773994445801, 4.17440128326416, 3.062347888946533, 5.173426151275635, 5.044462203979492, 3.6658310890197754, 2.460566997528076, 3.8577475547790527, 3.3675155639648438, 5.552671432495117, 5.473480224609375, 3.735927104949951, 5.479611396789551]}],\n",
       "                        {\"template\": {\"data\": {\"bar\": [{\"error_x\": {\"color\": \"#2a3f5f\"}, \"error_y\": {\"color\": \"#2a3f5f\"}, \"marker\": {\"line\": {\"color\": \"#E5ECF6\", \"width\": 0.5}}, \"type\": \"bar\"}], \"barpolar\": [{\"marker\": {\"line\": {\"color\": \"#E5ECF6\", \"width\": 0.5}}, \"type\": \"barpolar\"}], \"carpet\": [{\"aaxis\": {\"endlinecolor\": \"#2a3f5f\", \"gridcolor\": \"white\", \"linecolor\": \"white\", \"minorgridcolor\": \"white\", \"startlinecolor\": \"#2a3f5f\"}, \"baxis\": {\"endlinecolor\": \"#2a3f5f\", \"gridcolor\": \"white\", \"linecolor\": \"white\", \"minorgridcolor\": \"white\", \"startlinecolor\": \"#2a3f5f\"}, \"type\": \"carpet\"}], \"choropleth\": [{\"colorbar\": {\"outlinewidth\": 0, \"ticks\": \"\"}, \"type\": \"choropleth\"}], \"contour\": [{\"colorbar\": {\"outlinewidth\": 0, \"ticks\": \"\"}, \"colorscale\": [[0.0, \"#0d0887\"], [0.1111111111111111, \"#46039f\"], [0.2222222222222222, \"#7201a8\"], [0.3333333333333333, \"#9c179e\"], [0.4444444444444444, \"#bd3786\"], [0.5555555555555556, \"#d8576b\"], [0.6666666666666666, \"#ed7953\"], [0.7777777777777778, \"#fb9f3a\"], [0.8888888888888888, \"#fdca26\"], [1.0, \"#f0f921\"]], \"type\": \"contour\"}], \"contourcarpet\": [{\"colorbar\": {\"outlinewidth\": 0, \"ticks\": \"\"}, \"type\": \"contourcarpet\"}], \"heatmap\": [{\"colorbar\": {\"outlinewidth\": 0, \"ticks\": \"\"}, \"colorscale\": [[0.0, \"#0d0887\"], [0.1111111111111111, \"#46039f\"], [0.2222222222222222, \"#7201a8\"], [0.3333333333333333, \"#9c179e\"], [0.4444444444444444, \"#bd3786\"], [0.5555555555555556, \"#d8576b\"], [0.6666666666666666, \"#ed7953\"], [0.7777777777777778, \"#fb9f3a\"], [0.8888888888888888, \"#fdca26\"], [1.0, \"#f0f921\"]], \"type\": \"heatmap\"}], \"heatmapgl\": [{\"colorbar\": {\"outlinewidth\": 0, \"ticks\": \"\"}, \"colorscale\": [[0.0, \"#0d0887\"], [0.1111111111111111, \"#46039f\"], [0.2222222222222222, \"#7201a8\"], [0.3333333333333333, \"#9c179e\"], [0.4444444444444444, \"#bd3786\"], [0.5555555555555556, \"#d8576b\"], [0.6666666666666666, \"#ed7953\"], [0.7777777777777778, \"#fb9f3a\"], [0.8888888888888888, \"#fdca26\"], [1.0, \"#f0f921\"]], \"type\": \"heatmapgl\"}], \"histogram\": [{\"marker\": {\"colorbar\": {\"outlinewidth\": 0, \"ticks\": \"\"}}, \"type\": \"histogram\"}], \"histogram2d\": [{\"colorbar\": {\"outlinewidth\": 0, \"ticks\": \"\"}, \"colorscale\": [[0.0, \"#0d0887\"], [0.1111111111111111, \"#46039f\"], [0.2222222222222222, \"#7201a8\"], [0.3333333333333333, \"#9c179e\"], [0.4444444444444444, \"#bd3786\"], [0.5555555555555556, \"#d8576b\"], [0.6666666666666666, \"#ed7953\"], [0.7777777777777778, \"#fb9f3a\"], [0.8888888888888888, \"#fdca26\"], [1.0, \"#f0f921\"]], \"type\": \"histogram2d\"}], \"histogram2dcontour\": [{\"colorbar\": {\"outlinewidth\": 0, \"ticks\": \"\"}, \"colorscale\": [[0.0, \"#0d0887\"], [0.1111111111111111, \"#46039f\"], [0.2222222222222222, \"#7201a8\"], [0.3333333333333333, \"#9c179e\"], [0.4444444444444444, \"#bd3786\"], [0.5555555555555556, \"#d8576b\"], [0.6666666666666666, \"#ed7953\"], [0.7777777777777778, \"#fb9f3a\"], [0.8888888888888888, \"#fdca26\"], [1.0, \"#f0f921\"]], \"type\": \"histogram2dcontour\"}], \"mesh3d\": [{\"colorbar\": {\"outlinewidth\": 0, \"ticks\": \"\"}, \"type\": \"mesh3d\"}], \"parcoords\": [{\"line\": {\"colorbar\": {\"outlinewidth\": 0, \"ticks\": \"\"}}, \"type\": \"parcoords\"}], \"scatter\": [{\"marker\": {\"colorbar\": {\"outlinewidth\": 0, \"ticks\": \"\"}}, \"type\": \"scatter\"}], \"scatter3d\": [{\"line\": {\"colorbar\": {\"outlinewidth\": 0, \"ticks\": \"\"}}, \"marker\": {\"colorbar\": {\"outlinewidth\": 0, \"ticks\": \"\"}}, \"type\": \"scatter3d\"}], \"scattercarpet\": [{\"marker\": {\"colorbar\": {\"outlinewidth\": 0, \"ticks\": \"\"}}, \"type\": \"scattercarpet\"}], \"scattergeo\": [{\"marker\": {\"colorbar\": {\"outlinewidth\": 0, \"ticks\": \"\"}}, \"type\": \"scattergeo\"}], \"scattergl\": [{\"marker\": {\"colorbar\": {\"outlinewidth\": 0, \"ticks\": \"\"}}, \"type\": \"scattergl\"}], \"scattermapbox\": [{\"marker\": {\"colorbar\": {\"outlinewidth\": 0, \"ticks\": \"\"}}, \"type\": \"scattermapbox\"}], \"scatterpolar\": [{\"marker\": {\"colorbar\": {\"outlinewidth\": 0, \"ticks\": \"\"}}, \"type\": \"scatterpolar\"}], \"scatterpolargl\": [{\"marker\": {\"colorbar\": {\"outlinewidth\": 0, \"ticks\": \"\"}}, \"type\": \"scatterpolargl\"}], \"scatterternary\": [{\"marker\": {\"colorbar\": {\"outlinewidth\": 0, \"ticks\": \"\"}}, \"type\": \"scatterternary\"}], \"surface\": [{\"colorbar\": {\"outlinewidth\": 0, \"ticks\": \"\"}, \"colorscale\": [[0.0, \"#0d0887\"], [0.1111111111111111, \"#46039f\"], [0.2222222222222222, \"#7201a8\"], [0.3333333333333333, \"#9c179e\"], [0.4444444444444444, \"#bd3786\"], [0.5555555555555556, \"#d8576b\"], [0.6666666666666666, \"#ed7953\"], [0.7777777777777778, \"#fb9f3a\"], [0.8888888888888888, \"#fdca26\"], [1.0, \"#f0f921\"]], \"type\": \"surface\"}], \"table\": [{\"cells\": {\"fill\": {\"color\": \"#EBF0F8\"}, \"line\": {\"color\": \"white\"}}, \"header\": {\"fill\": {\"color\": \"#C8D4E3\"}, \"line\": {\"color\": \"white\"}}, \"type\": \"table\"}]}, \"layout\": {\"annotationdefaults\": {\"arrowcolor\": \"#2a3f5f\", \"arrowhead\": 0, \"arrowwidth\": 1}, \"colorscale\": {\"diverging\": [[0, \"#8e0152\"], [0.1, \"#c51b7d\"], [0.2, \"#de77ae\"], [0.3, \"#f1b6da\"], [0.4, \"#fde0ef\"], [0.5, \"#f7f7f7\"], [0.6, \"#e6f5d0\"], [0.7, \"#b8e186\"], [0.8, \"#7fbc41\"], [0.9, \"#4d9221\"], [1, \"#276419\"]], \"sequential\": [[0.0, \"#0d0887\"], [0.1111111111111111, \"#46039f\"], [0.2222222222222222, \"#7201a8\"], [0.3333333333333333, \"#9c179e\"], [0.4444444444444444, \"#bd3786\"], [0.5555555555555556, \"#d8576b\"], [0.6666666666666666, \"#ed7953\"], [0.7777777777777778, \"#fb9f3a\"], [0.8888888888888888, \"#fdca26\"], [1.0, \"#f0f921\"]], \"sequentialminus\": [[0.0, \"#0d0887\"], [0.1111111111111111, \"#46039f\"], [0.2222222222222222, \"#7201a8\"], [0.3333333333333333, \"#9c179e\"], [0.4444444444444444, \"#bd3786\"], [0.5555555555555556, \"#d8576b\"], [0.6666666666666666, \"#ed7953\"], [0.7777777777777778, \"#fb9f3a\"], [0.8888888888888888, \"#fdca26\"], [1.0, \"#f0f921\"]]}, \"colorway\": [\"#636efa\", \"#EF553B\", \"#00cc96\", \"#ab63fa\", \"#FFA15A\", \"#19d3f3\", \"#FF6692\", \"#B6E880\", \"#FF97FF\", \"#FECB52\"], \"font\": {\"color\": \"#2a3f5f\"}, \"geo\": {\"bgcolor\": \"white\", \"lakecolor\": \"white\", \"landcolor\": \"#E5ECF6\", \"showlakes\": true, \"showland\": true, \"subunitcolor\": \"white\"}, \"hoverlabel\": {\"align\": \"left\"}, \"hovermode\": \"closest\", \"mapbox\": {\"style\": \"light\"}, \"paper_bgcolor\": \"white\", \"plot_bgcolor\": \"#E5ECF6\", \"polar\": {\"angularaxis\": {\"gridcolor\": \"white\", \"linecolor\": \"white\", \"ticks\": \"\"}, \"bgcolor\": \"#E5ECF6\", \"radialaxis\": {\"gridcolor\": \"white\", \"linecolor\": \"white\", \"ticks\": \"\"}}, \"scene\": {\"xaxis\": {\"backgroundcolor\": \"#E5ECF6\", \"gridcolor\": \"white\", \"gridwidth\": 2, \"linecolor\": \"white\", \"showbackground\": true, \"ticks\": \"\", \"zerolinecolor\": \"white\"}, \"yaxis\": {\"backgroundcolor\": \"#E5ECF6\", \"gridcolor\": \"white\", \"gridwidth\": 2, \"linecolor\": \"white\", \"showbackground\": true, \"ticks\": \"\", \"zerolinecolor\": \"white\"}, \"zaxis\": {\"backgroundcolor\": \"#E5ECF6\", \"gridcolor\": \"white\", \"gridwidth\": 2, \"linecolor\": \"white\", \"showbackground\": true, \"ticks\": \"\", \"zerolinecolor\": \"white\"}}, \"shapedefaults\": {\"line\": {\"color\": \"#2a3f5f\"}}, \"ternary\": {\"aaxis\": {\"gridcolor\": \"white\", \"linecolor\": \"white\", \"ticks\": \"\"}, \"baxis\": {\"gridcolor\": \"white\", \"linecolor\": \"white\", \"ticks\": \"\"}, \"bgcolor\": \"#E5ECF6\", \"caxis\": {\"gridcolor\": \"white\", \"linecolor\": \"white\", \"ticks\": \"\"}}, \"title\": {\"x\": 0.05}, \"xaxis\": {\"automargin\": true, \"gridcolor\": \"white\", \"linecolor\": \"white\", \"ticks\": \"\", \"zerolinecolor\": \"white\", \"zerolinewidth\": 2}, \"yaxis\": {\"automargin\": true, \"gridcolor\": \"white\", \"linecolor\": \"white\", \"ticks\": \"\", \"zerolinecolor\": \"white\", \"zerolinewidth\": 2}}}, \"title\": {\"text\": \"Eqn 12 Term 1 Loss Per Batch\"}, \"xaxis\": {\"title\": {\"text\": \"Batch (size=20)\"}}, \"yaxis\": {\"title\": {\"text\": \"Loss\"}}},\n",
       "                        {\"responsive\": true}\n",
       "                    ).then(function(){\n",
       "                            \n",
       "var gd = document.getElementById('d1f280bd-e6a5-4597-8f33-e40915c1ccec');\n",
       "var x = new MutationObserver(function (mutations, observer) {{\n",
       "        var display = window.getComputedStyle(gd).display;\n",
       "        if (!display || display === 'none') {{\n",
       "            console.log([gd, 'removed!']);\n",
       "            Plotly.purge(gd);\n",
       "            observer.disconnect();\n",
       "        }}\n",
       "}});\n",
       "\n",
       "// Listen for the removal of the full notebook cells\n",
       "var notebookContainer = gd.closest('#notebook-container');\n",
       "if (notebookContainer) {{\n",
       "    x.observe(notebookContainer, {childList: true});\n",
       "}}\n",
       "\n",
       "// Listen for the clearing of the current output cell\n",
       "var outputEl = gd.closest('.output');\n",
       "if (outputEl) {{\n",
       "    x.observe(outputEl, {childList: true});\n",
       "}}\n",
       "\n",
       "                        })\n",
       "                };\n",
       "                });\n",
       "            </script>\n",
       "        </div>"
      ]
     },
     "metadata": {},
     "output_type": "display_data"
    }
   ],
   "source": [
    "# plot training loss\n",
    "\n",
    "plot_data = [\n",
    "    go.Scatter(\n",
    "        x=np.arange(len(losses)),\n",
    "        y=losses,\n",
    "        mode='lines')\n",
    "]\n",
    "\n",
    "layout = dict(\n",
    "    title='Eqn 12 Term 1 Loss Per Batch',\n",
    "    yaxis=dict(title='Loss'),\n",
    "    xaxis=dict(title='Batch (size={})'.format(batch_size))\n",
    ")\n",
    "fig = go.Figure(data=plot_data, layout=layout)\n",
    "fig.show()"
   ]
  },
  {
   "cell_type": "code",
   "execution_count": 225,
   "metadata": {
    "scrolled": false
   },
   "outputs": [],
   "source": [
    "PN_preds_out = pn_forward_net_out.forward(samples1)"
   ]
  },
  {
   "cell_type": "code",
   "execution_count": 226,
   "metadata": {},
   "outputs": [
    {
     "data": {
      "text/plain": [
       "torch.Size([598, 3])"
      ]
     },
     "execution_count": 226,
     "metadata": {},
     "output_type": "execute_result"
    }
   ],
   "source": [
    "PN_preds_out.shape"
   ]
  },
  {
   "cell_type": "code",
   "execution_count": 227,
   "metadata": {},
   "outputs": [
    {
     "data": {
      "text/plain": [
       "array([[8.8663828e-01, 1.0433372e-01, 9.0279356e-03],\n",
       "       [9.5709655e-03, 3.5240050e-02, 9.5518899e-01],\n",
       "       [8.0791575e-01, 1.6432290e-01, 2.7761381e-02],\n",
       "       ...,\n",
       "       [9.6635980e-05, 9.7570091e-01, 2.4202386e-02],\n",
       "       [6.4434418e-05, 9.9731016e-01, 2.6253590e-03],\n",
       "       [3.4130906e-05, 9.7678816e-01, 2.3177719e-02]], dtype=float32)"
      ]
     },
     "execution_count": 227,
     "metadata": {},
     "output_type": "execute_result"
    }
   ],
   "source": [
    "PN_preds_out.detach().numpy()"
   ]
  },
  {
   "cell_type": "code",
   "execution_count": 228,
   "metadata": {},
   "outputs": [],
   "source": [
    "PN_preds_out = PN_preds_out.detach().numpy()\n"
   ]
  },
  {
   "cell_type": "code",
   "execution_count": 229,
   "metadata": {},
   "outputs": [
    {
     "data": {
      "text/plain": [
       "array([[4.52665120e-07, 7.19735026e-02, 9.28026021e-01],\n",
       "       [5.06048764e-07, 4.72884357e-01, 5.27115166e-01],\n",
       "       [1.17251126e-03, 8.38290572e-01, 1.60536870e-01],\n",
       "       [9.79317047e-05, 5.84736824e-01, 4.15165186e-01],\n",
       "       [3.07210808e-04, 7.71754384e-01, 2.27938458e-01],\n",
       "       [2.41093789e-04, 9.75869119e-01, 2.38898080e-02],\n",
       "       [2.76060600e-04, 9.82819021e-01, 1.69049092e-02],\n",
       "       [4.55770969e-05, 9.83990431e-01, 1.59638822e-02],\n",
       "       [7.59507166e-05, 6.16527677e-01, 3.83396417e-01],\n",
       "       [4.49426203e-08, 2.74947640e-02, 9.72505212e-01],\n",
       "       [5.49886954e-06, 4.14110363e-01, 5.85884213e-01],\n",
       "       [1.88512928e-07, 8.43212783e-01, 1.56787008e-01],\n",
       "       [4.16317363e-07, 1.41554400e-01, 8.58445168e-01],\n",
       "       [5.18047018e-04, 9.96669114e-01, 2.81287404e-03],\n",
       "       [8.41819856e-04, 9.97418523e-01, 1.73961825e-03],\n",
       "       [1.67185572e-05, 9.54508662e-01, 4.54745665e-02],\n",
       "       [3.94197514e-06, 4.55724478e-01, 5.44271529e-01],\n",
       "       [2.23266488e-05, 9.43775952e-01, 5.62018007e-02],\n",
       "       [3.02689441e-05, 8.82732213e-01, 1.17237426e-01],\n",
       "       [2.07777470e-04, 9.84551013e-01, 1.52412662e-02],\n",
       "       [9.10560721e-06, 1.36680946e-01, 8.63309920e-01],\n",
       "       [4.17145377e-04, 9.98548687e-01, 1.03413418e-03],\n",
       "       [8.03585353e-05, 8.60412955e-01, 1.39506727e-01],\n",
       "       [1.62317156e-05, 8.65115941e-01, 1.34867832e-01],\n",
       "       [1.05244446e-07, 2.68542469e-02, 9.73145664e-01],\n",
       "       [1.00820080e-05, 9.82602358e-01, 1.73875913e-02],\n",
       "       [6.37223129e-05, 9.40751314e-01, 5.91850244e-02],\n",
       "       [3.88129811e-05, 9.23959792e-01, 7.60013685e-02],\n",
       "       [4.10665552e-06, 4.83975321e-01, 5.16020536e-01],\n",
       "       [8.91912714e-05, 9.79523182e-01, 2.03876607e-02],\n",
       "       [1.79906812e-04, 9.76538897e-01, 2.32811831e-02],\n",
       "       [2.56031868e-04, 9.98476923e-01, 1.26706297e-03],\n",
       "       [2.18364643e-03, 9.89608228e-01, 8.20816215e-03],\n",
       "       [1.04492909e-04, 9.99803603e-01, 9.18425430e-05],\n",
       "       [2.82451470e-06, 3.27530622e-01, 6.72466576e-01],\n",
       "       [3.32180684e-06, 8.21657121e-01, 1.78339586e-01],\n",
       "       [9.83120990e-05, 7.78144658e-01, 2.21757039e-01],\n",
       "       [5.64939801e-05, 9.94263351e-01, 5.68014337e-03],\n",
       "       [1.28717348e-03, 9.00825918e-01, 9.78869200e-02],\n",
       "       [4.16270224e-04, 9.99040544e-01, 5.43195289e-04],\n",
       "       [2.22708582e-06, 8.08036149e-01, 1.91961646e-01],\n",
       "       [1.11789959e-04, 6.47818685e-01, 3.52069497e-01],\n",
       "       [1.89784696e-05, 9.68658745e-01, 3.13223489e-02],\n",
       "       [1.73320659e-05, 4.87796009e-01, 5.12186706e-01],\n",
       "       [5.12650153e-08, 3.75996940e-02, 9.62400258e-01],\n",
       "       [7.92539140e-05, 9.94931877e-01, 4.98890504e-03],\n",
       "       [1.04180854e-02, 9.89307106e-01, 2.74733844e-04],\n",
       "       [4.62675735e-06, 8.77156198e-01, 1.22839198e-01],\n",
       "       [1.17035461e-06, 6.87963009e-01, 3.12035829e-01],\n",
       "       [2.18258247e-05, 9.54965413e-01, 4.50127013e-02],\n",
       "       [7.79206493e-06, 6.81688368e-01, 3.18303853e-01],\n",
       "       [2.36529202e-04, 9.01081562e-01, 9.86818522e-02],\n",
       "       [2.47212520e-05, 9.87091184e-01, 1.28840432e-02],\n",
       "       [2.47879012e-04, 9.68826234e-01, 3.09258793e-02],\n",
       "       [2.24714695e-05, 2.32192010e-01, 7.67785490e-01],\n",
       "       [3.38985245e-07, 9.36407298e-02, 9.06358898e-01],\n",
       "       [5.35815298e-06, 7.14498162e-01, 2.85496473e-01],\n",
       "       [1.35079063e-06, 1.01679347e-01, 8.98319304e-01],\n",
       "       [3.89998677e-05, 9.01048541e-01, 9.89124626e-02],\n",
       "       [1.33092530e-04, 8.90940726e-01, 1.08926199e-01],\n",
       "       [7.14512207e-05, 9.86034513e-01, 1.38939936e-02],\n",
       "       [3.02386557e-04, 9.66220200e-01, 3.34774815e-02],\n",
       "       [5.01984905e-05, 9.27752554e-01, 7.21971914e-02],\n",
       "       [5.84267364e-05, 5.41425288e-01, 4.58516330e-01],\n",
       "       [2.90870055e-04, 9.99665856e-01, 4.32136985e-05],\n",
       "       [4.20844737e-09, 3.32007906e-03, 9.96679902e-01],\n",
       "       [1.47196886e-04, 9.44261193e-01, 5.55915423e-02],\n",
       "       [8.65400580e-07, 2.65879869e-01, 7.34119236e-01],\n",
       "       [4.70902762e-07, 1.67893261e-01, 8.32106233e-01],\n",
       "       [4.26284387e-05, 6.45756483e-01, 3.54200870e-01],\n",
       "       [4.85882592e-05, 9.68197882e-01, 3.17534655e-02],\n",
       "       [2.50165380e-04, 9.94764805e-01, 4.98495251e-03],\n",
       "       [4.33286868e-06, 5.73889077e-01, 4.26106602e-01],\n",
       "       [9.82703874e-04, 9.92058992e-01, 6.95824996e-03],\n",
       "       [1.60407362e-05, 5.78658164e-01, 4.21325773e-01],\n",
       "       [1.04064911e-05, 9.41254854e-01, 5.87347522e-02],\n",
       "       [1.58658565e-03, 9.73642886e-01, 2.47705262e-02],\n",
       "       [5.19210989e-05, 9.01286542e-01, 9.86615792e-02],\n",
       "       [5.29805657e-05, 8.89412045e-01, 1.10534944e-01],\n",
       "       [1.26642988e-06, 1.19096279e-01, 8.80902469e-01],\n",
       "       [4.56009364e-09, 2.66062049e-03, 9.97339427e-01],\n",
       "       [2.42136230e-06, 9.19701457e-01, 8.02961215e-02],\n",
       "       [1.50965861e-04, 9.97021735e-01, 2.82731885e-03],\n",
       "       [9.24338383e-06, 6.84530020e-01, 3.15460742e-01],\n",
       "       [1.86980469e-04, 7.59736598e-01, 2.40076363e-01],\n",
       "       [2.87426446e-05, 9.56545353e-01, 4.34258729e-02],\n",
       "       [1.52657926e-03, 9.98027027e-01, 4.46434016e-04],\n",
       "       [6.11782889e-05, 7.81925857e-01, 2.18012944e-01],\n",
       "       [9.36173892e-04, 9.05437648e-01, 9.36262831e-02],\n",
       "       [9.90825283e-05, 7.12444842e-01, 2.87455976e-01],\n",
       "       [4.64613811e-04, 9.97863710e-01, 1.67161948e-03],\n",
       "       [4.68264005e-08, 8.67789537e-02, 9.13221002e-01],\n",
       "       [1.07679860e-07, 9.49692652e-02, 9.05030668e-01],\n",
       "       [5.72381869e-05, 8.29561651e-01, 1.70381054e-01],\n",
       "       [4.08280284e-05, 9.79449153e-01, 2.05099080e-02],\n",
       "       [2.99974909e-06, 5.23889303e-01, 4.76107657e-01],\n",
       "       [9.57789671e-05, 8.81989658e-01, 1.17914528e-01],\n",
       "       [9.66359803e-05, 9.75700915e-01, 2.42023859e-02],\n",
       "       [6.44344182e-05, 9.97310162e-01, 2.62535899e-03],\n",
       "       [3.41309060e-05, 9.76788163e-01, 2.31777187e-02]], dtype=float32)"
      ]
     },
     "execution_count": 229,
     "metadata": {},
     "output_type": "execute_result"
    }
   ],
   "source": [
    "PN_preds_out[498:]"
   ]
  },
  {
   "cell_type": "code",
   "execution_count": 230,
   "metadata": {},
   "outputs": [],
   "source": [
    "#helper to calculate mean entropy\n",
    "def calc_mean_entropy(preds):\n",
    "    entropies = []\n",
    "    for i in range(preds.shape[0]):\n",
    "        entropies.append(stats.entropy(preds[i]))\n",
    "    return np.array(entropies).mean()\n",
    "        "
   ]
  },
  {
   "cell_type": "code",
   "execution_count": 231,
   "metadata": {},
   "outputs": [
    {
     "data": {
      "text/plain": [
       "0.55558306"
      ]
     },
     "execution_count": 231,
     "metadata": {},
     "output_type": "execute_result"
    }
   ],
   "source": [
    "#calculate the entropy for in distribution\n",
    "in_dist_entropy = calc_mean_entropy(PN_preds_out[:498])\n",
    "in_dist_entropy"
   ]
  },
  {
   "cell_type": "code",
   "execution_count": 232,
   "metadata": {},
   "outputs": [
    {
     "data": {
      "text/plain": [
       "0.30398744"
      ]
     },
     "execution_count": 232,
     "metadata": {},
     "output_type": "execute_result"
    }
   ],
   "source": [
    "out_dist_entropy = calc_mean_entropy(PN_preds_out[498:])\n",
    "out_dist_entropy"
   ]
  },
  {
   "cell_type": "code",
   "execution_count": null,
   "metadata": {},
   "outputs": [],
   "source": []
  }
 ],
 "metadata": {
  "kernelspec": {
   "display_name": "Python 3",
   "language": "python",
   "name": "python3"
  },
  "language_info": {
   "codemirror_mode": {
    "name": "ipython",
    "version": 3
   },
   "file_extension": ".py",
   "mimetype": "text/x-python",
   "name": "python",
   "nbconvert_exporter": "python",
   "pygments_lexer": "ipython3",
   "version": "3.6.8"
  }
 },
 "nbformat": 4,
 "nbformat_minor": 2
}
